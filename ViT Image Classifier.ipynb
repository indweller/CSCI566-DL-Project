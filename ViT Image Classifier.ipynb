{
 "cells": [
  {
   "cell_type": "code",
   "execution_count": 2,
   "metadata": {
    "colab": {
     "base_uri": "https://localhost:8080/"
    },
    "executionInfo": {
     "elapsed": 16594,
     "status": "ok",
     "timestamp": 1681941037336,
     "user": {
      "displayName": "Siddharth Byale",
      "userId": "13836715694971561515"
     },
     "user_tz": 420
    },
    "id": "w8IWV1Vs4FOF",
    "outputId": "2d0c3844-4882-484f-faaf-1baaac3d0f05"
   },
   "outputs": [],
   "source": [
    "import sys\n",
    "path = \"../\"\n",
    "if 'google.colab' in sys.modules:\n",
    "    print('Running in Colab.')\n",
    "    path = \"./drive/MyDrive/566 Project\"\n",
    "    from google.colab import drive\n",
    "    drive.mount('/content/drive')"
   ]
  },
  {
   "cell_type": "code",
   "execution_count": 3,
   "metadata": {
    "executionInfo": {
     "elapsed": 15646,
     "status": "ok",
     "timestamp": 1681941055489,
     "user": {
      "displayName": "Siddharth Byale",
      "userId": "13836715694971561515"
     },
     "user_tz": 420
    },
    "id": "2938H0c_3fqZ"
   },
   "outputs": [],
   "source": [
    "%%capture\n",
    "!pip install transformers datasets"
   ]
  },
  {
   "cell_type": "code",
   "execution_count": 4,
   "metadata": {
    "executionInfo": {
     "elapsed": 6055,
     "status": "ok",
     "timestamp": 1681941061540,
     "user": {
      "displayName": "Siddharth Byale",
      "userId": "13836715694971561515"
     },
     "user_tz": 420
    },
    "id": "Vd8RgiIdsIuS"
   },
   "outputs": [],
   "source": [
    "import torch\n",
    "import torchvision\n",
    "from torch.utils.data import Dataset, DataLoader\n",
    "from torchvision import datasets, transforms\n",
    "from transformers import AutoImageProcessor, ViTForImageClassification\n",
    "import pandas as pd\n",
    "import numpy as np\n",
    "from tqdm import tqdm\n",
    "import matplotlib.pyplot as plt\n",
    "import pickle as pkl \n",
    "import torch.nn.functional as F"
   ]
  },
  {
   "cell_type": "markdown",
   "metadata": {
    "jp-MarkdownHeadingCollapsed": true,
    "tags": []
   },
   "source": [
    "## Legacy Code"
   ]
  },
  {
   "cell_type": "code",
   "execution_count": 4,
   "metadata": {
    "colab": {
     "base_uri": "https://localhost:8080/",
     "height": 113,
     "referenced_widgets": [
      "b313a55827374390ae9ae7d0063c50b7",
      "febe61a0c0de4a798815de6e5fd08d6c",
      "d12b91278fa5486ea178f251de1cc941",
      "dc679a78268f42ebaf255f72b0998228",
      "c3e9a6b74357400396eb2c1803879c90",
      "6b8945803db54689a89bd6fea234b0d0",
      "e97424a1c5064e48b8d7f272027fc673",
      "3888f2a49441450aab7ca2aa0f0553c6",
      "88e242ffe40e427f8de88f61c32f333e",
      "e147c520e2004bb2a15975a8463fd96b",
      "fecdb4d60604409fb2c178931fe909ca",
      "669e1ce0289f4d0cbad1a93242d6dcd2",
      "c8dc261863174c379d7a37bd4ba240bb",
      "2f783b0da2514aa0a913603241e2e809",
      "5f178d667e604f5bab7e1a486ec8d00b",
      "acd77d68ddd54dab9809814f13c56022",
      "d1f7675d73ac4852b0e5cc596d4bc896",
      "32d1cae7defc4b62bd9f40245606a8b3",
      "5a833aabd5c34f1f853244ee795d044e",
      "b9ba62730f3248ceb128803e64261bb5",
      "9c8c650ce3c14d0b9d56976b634d1b92",
      "ad781ee9493740b492b6efa0cc979926",
      "949434c3ecaa484583eee897b3f2c9b9",
      "ca36bfd44bc8462db57aad2cfdd86e21",
      "d470351bffb94ef8aeb574e7d98b875f",
      "f6a048bbfccd4551bdfe704288c66ca4",
      "48b767963dea42cb8304a674e4bba78a",
      "d5b6e0a3c9cd4d4ab5793c5b2474cf6a",
      "d7ade12f873e40cc99ba0ecde623885e",
      "e28626ff0feb42368a5f4c468d7aad1e",
      "f02984dbe04a4bccbd1b106d38712284",
      "4096e962c8cf4700b995e8eaf5288b0e",
      "f63fd4866447498f8f600e2b54dc8f33"
     ]
    },
    "executionInfo": {
     "elapsed": 8226,
     "status": "ok",
     "timestamp": 1681941078191,
     "user": {
      "displayName": "Siddharth Byale",
      "userId": "13836715694971561515"
     },
     "user_tz": 420
    },
    "id": "uJws8Hls56Mt",
    "outputId": "ff292de7-5827-458f-ecd5-8f73f4fd41ea"
   },
   "outputs": [],
   "source": [
    "image_processor = AutoImageProcessor.from_pretrained(\"google/vit-base-patch16-224\") \n",
    "model = ViTForImageClassification.from_pretrained(\"google/vit-base-patch16-224\") "
   ]
  },
  {
   "cell_type": "code",
   "execution_count": 33,
   "metadata": {},
   "outputs": [],
   "source": [
    "raw_data = open(path+f\"data/adv_test_cropped_name\", 'rb')\n",
    "data1 = pkl.load(raw_data)\n",
    "raw_data = open(path+f\"data/test2_cropped_name\", 'rb')\n",
    "data2 = pkl.load(raw_data)\n",
    "unprocessed_data = data1+data2"
   ]
  },
  {
   "cell_type": "code",
   "execution_count": 34,
   "metadata": {},
   "outputs": [
    {
     "name": "stdout",
     "output_type": "stream",
     "text": [
      "(224, 224, 3) 8993\n"
     ]
    }
   ],
   "source": [
    "# unprocessed_data[0][1].shape, data[0][1].pixel_values.shape, \n",
    "print(unprocessed_data[0][1].shape, len(unprocessed_data))"
   ]
  },
  {
   "cell_type": "code",
   "execution_count": 7,
   "metadata": {},
   "outputs": [
    {
     "name": "stdout",
     "output_type": "stream",
     "text": [
      "13685\n"
     ]
    }
   ],
   "source": [
    "data = []\n",
    "\n",
    "for i in range(len(unprocessed_data)):\n",
    "  name, n, c = unprocessed_data[i]\n",
    "  if len(c.shape) == 3:# and len(n.shape) == 3: \n",
    "    # n = image_processor(images=n, return_tensors=\"pt\")\n",
    "    c = image_processor(images=c, return_tensors=\"pt\")\n",
    "    data.append([name, c])\n",
    "\n",
    "print(len(data))"
   ]
  },
  {
   "cell_type": "code",
   "execution_count": 31,
   "metadata": {},
   "outputs": [
    {
     "data": {
      "text/plain": [
       "8993"
      ]
     },
     "execution_count": 31,
     "metadata": {},
     "output_type": "execute_result"
    }
   ],
   "source": [
    "len(unprocessed_data)"
   ]
  },
  {
   "cell_type": "code",
   "execution_count": 30,
   "metadata": {
    "tags": []
   },
   "outputs": [
    {
     "name": "stderr",
     "output_type": "stream",
     "text": [
      "100%|██████████| 8993/8993 [00:26<00:00, 345.35it/s]"
     ]
    },
    {
     "name": "stdout",
     "output_type": "stream",
     "text": [
      "\n",
      "All data was processed \n",
      "Missing labels = 0\n",
      "Processed Data 8817\n"
     ]
    },
    {
     "name": "stderr",
     "output_type": "stream",
     "text": [
      "\n"
     ]
    }
   ],
   "source": [
    "#For RAM constraints\n",
    "FILES_TO_READ = min(14_000, len(unprocessed_data))\n",
    "\n",
    "data = []\n",
    "label_map = pd.read_csv(path+\"data/labels.csv\", dtype={'0': 'string', '1':'string'}, names=['folder', 'label'], header=None, skiprows=1)\n",
    "label_map['folder'] = label_map['folder'].str[1:]\n",
    "failed_label = []\n",
    "\n",
    "for i in tqdm(range(FILES_TO_READ)):\n",
    "  folder_num, n, c = unprocessed_data[i]\n",
    "  if len(c.shape) == 3: # and len(c.shape) == 3:\n",
    "    label_id = folder_num.split(\"_n\")[1]\n",
    "    try:\n",
    "        l = label_map.query(\"folder == @label_id\").values[0][1]\n",
    "        c = image_processor(images=c, return_tensors=\"pt\")\n",
    "        data.append([l,c])\n",
    "    except:\n",
    "      l = None\n",
    "      failed_label.append(label_id) \n",
    "\n",
    "    # n = image_processor(images=n, return_tensors=\"pt\")\n",
    "  # if i%500 == 0:\n",
    "  #   print(\"Files finised\",i)\n",
    "\n",
    "print(\"\\nAll data was processed \")\n",
    "print(f\"Missing labels = {len(failed_label)}\")\n",
    "print(f\"Processed Data {len(data)}\")"
   ]
  },
  {
   "cell_type": "code",
   "execution_count": 8,
   "metadata": {},
   "outputs": [],
   "source": [
    "class DS(Dataset):\n",
    "    def __init__(self, data):\n",
    "        super(Dataset, self).__init__()\n",
    "        self.data = data\n",
    "        \n",
    "    def __len__(self):\n",
    "        return len(data)\n",
    "        \n",
    "    def __getitem__(self, index):\n",
    "        # print(self.__len__() , index)\n",
    "        assert self.__len__() > index\n",
    "        return self.data[index][0], self.data[index][1], self.data[index][2]   #returning label, noise_img"
   ]
  },
  {
   "cell_type": "code",
   "execution_count": 13,
   "metadata": {},
   "outputs": [],
   "source": [
    "def get_data(pass_no=1, masking_ratio=50):\n",
    "    print(f\"Loading data: Masking ratio: {masking_ratio}, Pass_no: {pass_no}\")\n",
    "    raw_data = open(path+f\"data/recon_noise_{pass_no}_image_denorm_{masking_ratio}.pkl\", 'rb')\n",
    "    data = pkl.load(raw_data)\n",
    "    return data\n",
    "\n",
    "def get_labels(masking_ratio=50):\n",
    "    print(f\"Loading labels: Masking ratio: {masking_ratio}\")\n",
    "    raw_data = open(path+f\"data/recon_noise_labels_denorm_{masking_ratio}.pkl\", 'rb')\n",
    "    labels = pkl.load(raw_data)\n",
    "    return labels\n",
    "\n",
    "def get_paired_data(labels, data):\n",
    "    unprocessed_data = []\n",
    "    for l, img in zip(labels, data):\n",
    "        unprocessed_data.append([l,img])\n",
    "    print(f\"Length of data: {len(unprocessed_data)}\")\n",
    "    return unprocessed_data"
   ]
  },
  {
   "cell_type": "code",
   "execution_count": 34,
   "metadata": {
    "colab": {
     "base_uri": "https://localhost:8080/"
    },
    "executionInfo": {
     "elapsed": 58669,
     "status": "ok",
     "timestamp": 1681941590458,
     "user": {
      "displayName": "Siddharth Byale",
      "userId": "13836715694971561515"
     },
     "user_tz": 420
    },
    "id": "zsjrkizvDLex",
    "outputId": "11af43e3-b304-49b9-e49d-e6d918002092"
   },
   "outputs": [],
   "source": [
    "def process_data(labels, data):\n",
    "    unprocessed_data = []\n",
    "    for l, img in zip(labels, data):\n",
    "        unprocessed_data.append([l,img])\n",
    "    print(f\"Length of data: {len(unprocessed_data)}\")\n",
    "    \n",
    "    #For RAM constraints\n",
    "    FILES_TO_READ = min(14_000, len(unprocessed_data))\n",
    "\n",
    "    data = []\n",
    "    label_map = pd.read_csv(path+\"data/labels.csv\", dtype={'0': 'string', '1':'string'}, names=['folder', 'label'], header=None, skiprows=1)\n",
    "    label_map['folder'] = label_map['folder'].str[1:]\n",
    "    failed_label = []\n",
    "\n",
    "    for i in tqdm(range(FILES_TO_READ)):\n",
    "      folder_num, n = unprocessed_data[i]\n",
    "      if len(n.shape) == 3:\n",
    "        label_id = folder_num.split(\"_n\")[1]\n",
    "        try:\n",
    "          l = label_map.query(\"folder == @label_id\").values[0][1]\n",
    "        except:\n",
    "          l = None\n",
    "          failed_label.append(label_id) \n",
    "        #l = folder_num\n",
    "        n = image_processor(images=n, return_tensors=\"pt\")\n",
    "        data.append([l,n])\n",
    "\n",
    "\n",
    "    print(\"\\nAll data was processed. Missing labels = {len(failed_label)}, Processed Data {len(data)}\")\n",
    "    return data"
   ]
  },
  {
   "cell_type": "code",
   "execution_count": 9,
   "metadata": {
    "executionInfo": {
     "elapsed": 135,
     "status": "ok",
     "timestamp": 1681941605169,
     "user": {
      "displayName": "Siddharth Byale",
      "userId": "13836715694971561515"
     },
     "user_tz": 420
    },
    "id": "fYtA4J2NGzRh"
   },
   "outputs": [],
   "source": [
    "imagenet_std = torch.tensor(image_processor.image_std)\n",
    "imagenet_mean = torch.tensor(image_processor.image_mean)\n",
    "\n",
    "def show_image(image, title='', is_numpy=False):\n",
    "    # image is [H, W, 3]\n",
    "    assert image.shape[2] == 3\n",
    "    if is_numpy:\n",
    "        plt.imshow(torch.from_numpy(image))\n",
    "    else:\n",
    "        plt.imshow(torch.clip((image * imagenet_std + imagenet_mean) * 255, 0, 255).int())\n",
    "    plt.title(title, fontsize=16)\n",
    "    plt.axis('off')\n",
    "    return"
   ]
  },
  {
   "cell_type": "code",
   "execution_count": 10,
   "metadata": {
    "colab": {
     "base_uri": "https://localhost:8080/",
     "height": 406
    },
    "executionInfo": {
     "elapsed": 1097,
     "status": "ok",
     "timestamp": 1681941607408,
     "user": {
      "displayName": "Siddharth Byale",
      "userId": "13836715694971561515"
     },
     "user_tz": 420
    },
    "id": "TVULEPXVI9mF",
    "outputId": "5ac2af9b-328d-42fe-f4da-e36e60d6ec3e"
   },
   "outputs": [
    {
     "ename": "IndexError",
     "evalue": "list index out of range",
     "output_type": "error",
     "traceback": [
      "\u001b[0;31m---------------------------------------------------------------------------\u001b[0m",
      "\u001b[0;31mIndexError\u001b[0m                                Traceback (most recent call last)",
      "\u001b[0;32m/var/tmp/ipykernel_8769/2359271272.py\u001b[0m in \u001b[0;36m<module>\u001b[0;34m\u001b[0m\n\u001b[0;32m----> 1\u001b[0;31m \u001b[0mtrial\u001b[0m \u001b[0;34m=\u001b[0m \u001b[0mtorch\u001b[0m\u001b[0;34m.\u001b[0m\u001b[0meinsum\u001b[0m\u001b[0;34m(\u001b[0m\u001b[0;34m'chw->hwc'\u001b[0m\u001b[0;34m,\u001b[0m \u001b[0mdata\u001b[0m\u001b[0;34m[\u001b[0m\u001b[0;36m21\u001b[0m\u001b[0;34m]\u001b[0m\u001b[0;34m[\u001b[0m\u001b[0;36m1\u001b[0m\u001b[0;34m]\u001b[0m\u001b[0;34m.\u001b[0m\u001b[0mpixel_values\u001b[0m\u001b[0;34m.\u001b[0m\u001b[0mview\u001b[0m\u001b[0;34m(\u001b[0m\u001b[0;36m3\u001b[0m\u001b[0;34m,\u001b[0m\u001b[0;36m224\u001b[0m\u001b[0;34m,\u001b[0m\u001b[0;36m224\u001b[0m\u001b[0;34m)\u001b[0m\u001b[0;34m)\u001b[0m\u001b[0;34m\u001b[0m\u001b[0;34m\u001b[0m\u001b[0m\n\u001b[0m\u001b[1;32m      2\u001b[0m \u001b[0mshow_image\u001b[0m\u001b[0;34m(\u001b[0m\u001b[0mtrial\u001b[0m\u001b[0;34m,\u001b[0m \u001b[0mdata\u001b[0m\u001b[0;34m[\u001b[0m\u001b[0;36m21\u001b[0m\u001b[0;34m]\u001b[0m\u001b[0;34m[\u001b[0m\u001b[0;36m0\u001b[0m\u001b[0;34m]\u001b[0m\u001b[0;34m)\u001b[0m\u001b[0;34m\u001b[0m\u001b[0;34m\u001b[0m\u001b[0m\n",
      "\u001b[0;31mIndexError\u001b[0m: list index out of range"
     ]
    }
   ],
   "source": [
    "trial = torch.einsum('chw->hwc', data[21][1].pixel_values.view(3,224,224))\n",
    "show_image(trial, data[21][0])"
   ]
  },
  {
   "cell_type": "code",
   "execution_count": 37,
   "metadata": {
    "executionInfo": {
     "elapsed": 160,
     "status": "ok",
     "timestamp": 1681941611637,
     "user": {
      "displayName": "Siddharth Byale",
      "userId": "13836715694971561515"
     },
     "user_tz": 420
    },
    "id": "7UsMz2wRsMpm"
   },
   "outputs": [],
   "source": [
    "class DS(Dataset):\n",
    "     def __init__(self, data):\n",
    "         super(Dataset, self).__init__()\n",
    "         self.data = data\n",
    "        \n",
    "     def __len__(self):\n",
    "         return len(data)\n",
    "        \n",
    "     def __getitem__(self, index):\n",
    "        # print(self.__len__() , index)\n",
    "        assert self.__len__() > index\n",
    "        return self.data[index][0], self.data[index][1]   #returning label, noise_img"
   ]
  },
  {
   "cell_type": "code",
   "execution_count": 38,
   "metadata": {
    "colab": {
     "base_uri": "https://localhost:8080/"
    },
    "executionInfo": {
     "elapsed": 565795,
     "status": "ok",
     "timestamp": 1681942182919,
     "user": {
      "displayName": "Siddharth Byale",
      "userId": "13836715694971561515"
     },
     "user_tz": 420
    },
    "id": "6hyNRrVTRPRp",
    "outputId": "c00f8c01-8c35-4954-e3ba-5f3427f811d0"
   },
   "outputs": [],
   "source": [
    "def get_predictions(dataloader, model):\n",
    "    predicted_labels = []\n",
    "    true_labels = []\n",
    "\n",
    "    device = torch.device(\"cuda\") if torch.cuda.is_available() else torch.device(\"cpu\")\n",
    "    print(f\"Currently using {device}\")\n",
    "\n",
    "    model = model.to(device)\n",
    "    model.eval()\n",
    "    with torch.no_grad():\n",
    "        for batch_idx, (labels, noise_inputs) in enumerate(tqdm(dataloader)):\n",
    "            inputs = noise_inputs.pixel_values.reshape(-1,3,224,224).to(device)\n",
    "            output = model(inputs)\n",
    "            logits = output.logits\n",
    "            logits = logits.detach().cpu()\n",
    "            predicted_class_idx = logits.argmax(-1)\n",
    "            for idx in predicted_class_idx:\n",
    "                predicted_labels.append(model.config.id2label[idx.item()])\n",
    "            true_labels.extend(labels)\n",
    "    \n",
    "    return predicted_labels, true_labels"
   ]
  },
  {
   "cell_type": "code",
   "execution_count": 39,
   "metadata": {
    "executionInfo": {
     "elapsed": 178,
     "status": "ok",
     "timestamp": 1681942186389,
     "user": {
      "displayName": "Siddharth Byale",
      "userId": "13836715694971561515"
     },
     "user_tz": 420
    },
    "id": "lWDSphG3CIzG"
   },
   "outputs": [],
   "source": [
    "def string_accuracy(pred, truth):\n",
    "    if len(pred) != len(truth):\n",
    "        return 0.0\n",
    "\n",
    "    correct = sum([1 if pred[i] == truth[i] else 0 for i in range(len(pred))])\n",
    "    return float(correct) / len(pred)"
   ]
  },
  {
   "cell_type": "code",
   "execution_count": 40,
   "metadata": {
    "colab": {
     "base_uri": "https://localhost:8080/"
    },
    "executionInfo": {
     "elapsed": 151,
     "status": "ok",
     "timestamp": 1681942187291,
     "user": {
      "displayName": "Siddharth Byale",
      "userId": "13836715694971561515"
     },
     "user_tz": 420
    },
    "id": "HNaJYCbrC1HQ",
    "outputId": "e0044915-b453-47a6-a5b9-54468b645660"
   },
   "outputs": [
    {
     "name": "stdout",
     "output_type": "stream",
     "text": [
      "Loading data: Masking ratio: 75, Pass_no: 1\n",
      "Loading labels: Masking ratio: 75\n",
      "Length of data: 8817\n"
     ]
    },
    {
     "name": "stderr",
     "output_type": "stream",
     "text": [
      "100%|██████████| 8817/8817 [00:39<00:00, 225.52it/s]\n"
     ]
    },
    {
     "name": "stdout",
     "output_type": "stream",
     "text": [
      "\n",
      "All data was processed. Missing labels = {len(failed_label)}, Processed Data {len(data)}\n",
      "Currently using cuda\n"
     ]
    },
    {
     "name": "stderr",
     "output_type": "stream",
     "text": [
      "100%|██████████| 552/552 [01:32<00:00,  5.99it/s]"
     ]
    },
    {
     "name": "stdout",
     "output_type": "stream",
     "text": [
      "0.33991153453555634\n"
     ]
    },
    {
     "name": "stderr",
     "output_type": "stream",
     "text": [
      "\n"
     ]
    }
   ],
   "source": [
    "# for our dataset\n",
    "raw_data = get_data(pass_no=1, masking_ratio=75)\n",
    "labels = get_labels(masking_ratio=75)\n",
    "data = process_data(labels, raw_data)\n",
    "ds = DS(data)\n",
    "test_dataloader = DataLoader(ds, batch_size=16, shuffle=True)\n",
    "predicted_labels, true_labels = get_predictions(test_dataloader, model)\n",
    "acc = string_accuracy(predicted_labels, true_labels)\n",
    "print(acc)"
   ]
  },
  {
   "cell_type": "markdown",
   "metadata": {
    "jp-MarkdownHeadingCollapsed": true,
    "tags": []
   },
   "source": [
    "## Stats"
   ]
  },
  {
   "cell_type": "markdown",
   "metadata": {},
   "source": [
    "| Model | Input | Mask | Accuracy |\n",
    "| -- | --| -- | -- |\n",
    "| - | Clean | - | 81.81 |\n",
    "| Base MAE | Clean, Recon | 75 | 31.66 |\n",
    "| Finetune MAE | Clean, Recon + visible | 75 | 41.91 |\n",
    "| Finetune MAE | Clean, Recon + visible | 50 | 66.29 |\n",
    "| - | Noise | - | 76.89 |\n",
    "| Finetune MAE | Noise, Recon | 75 | 31.63 |\n",
    "| Finetune MAE | Noise, Recon + visible | 75 | 28.89 |\n",
    "| Finetune MAE | Noise, Recon + visible | 50 | 48.46 |\n",
    "| Finetune MAE | Noise, Recon + visible | 50 | 35.32 (2 pass) |\n",
    "| Finetune MAE | Noise, Recon + visible | 25 | 65.12  |\n",
    "| Finetune MAE | Noise, Recon + visible | 25 | 54.09 (2 pass) |\n",
    "| Finetune MAE | Noise, Recon + visible | 10 | 73.42 |\n",
    "| Finetune MAE | Noise, Recon + visible | 10 | 68.66 (2 pass) |\n",
    "| Finetune MAE | Noise, Recon + visible | 5 | 75.59 |\n",
    "| Finetune MAE | Noise, Recon + visible | 5 | 73.29 (2 pass) |"
   ]
  },
  {
   "cell_type": "markdown",
   "metadata": {
    "tags": []
   },
   "source": [
    "# Refactored Code"
   ]
  },
  {
   "cell_type": "code",
   "execution_count": 5,
   "metadata": {},
   "outputs": [],
   "source": [
    "def read_data(input_data, pass_no, finetune, masking_ratio, recon_and_vis):\n",
    "    reconstruc_f = \"recon_vis\" if recon_and_vis else \"recon\"\n",
    "    # print(f\"Reading {input_data} data with {reconstruc_f} \")\n",
    "    # print(\"Pass is\", pass_no)\n",
    "    # print(f\"Data reconstructed on {finetune} model and {masking_ratio} masking\")\n",
    "    print(\"Reading file: \"+path+f\"data/{input_data}_{reconstruc_f}_pass_{pass_no}_image_{finetune}_{int(masking_ratio*100)}.pkl\\n\")\n",
    "    raw_data = open(path+f\"data/{input_data}_{reconstruc_f}_pass_{pass_no}_image_{finetune}_{int(masking_ratio*100)}.pkl\", 'rb')\n",
    "    data = pkl.load(raw_data)\n",
    "    return data\n",
    "\n",
    "def read_labels(input_data, finetune, masking_ratio, recon_and_vis):\n",
    "    reconstruc_f = \"recon_vis\" if recon_and_vis else \"recon\"\n",
    "    # print(f\"Reading {input_data} labels with {reconstruc_f} \")\n",
    "    # print(f\"Data reconstructed on {finetune} model and {masking_ratio} masking\")\n",
    "    print(\"Reading file: \"+path+f\"data/{input_data}_{reconstruc_f}_labels_image_{finetune}_{int(masking_ratio*100)}.pkl\\n\")\n",
    "    raw_data = open(path+f\"data/{input_data}_{reconstruc_f}_labels_image_{finetune}_{int(masking_ratio*100)}.pkl\", 'rb')\n",
    "    labels = pkl.load(raw_data)\n",
    "    return labels"
   ]
  },
  {
   "cell_type": "code",
   "execution_count": 6,
   "metadata": {},
   "outputs": [],
   "source": [
    "def process_data(labels, data, is_fgsm=False):\n",
    "    unprocessed_data = []\n",
    "    for l, img in zip(labels, data):\n",
    "        unprocessed_data.append([l,img])\n",
    "    print(f\"Length of data: {len(unprocessed_data)}\")\n",
    "    \n",
    "    FILES_TO_READ = min(14_000, len(unprocessed_data))\n",
    "\n",
    "    data = []\n",
    "    label_map = pd.read_csv(path+\"data/labels.csv\", dtype={'0': 'string', '1':'string'}, names=['folder', 'label'], header=None, skiprows=1)\n",
    "    label_map['folder'] = label_map['folder'].str[1:]\n",
    "    failed_label = []\n",
    "    \n",
    "    print(\"Processing Data...\")\n",
    "\n",
    "    for i in tqdm(range(FILES_TO_READ)):\n",
    "        folder_num, n = unprocessed_data[i]\n",
    "        if len(n.shape) == 3:\n",
    "            if is_fgsm:\n",
    "                label_id = folder_num\n",
    "            else:\n",
    "                label_id = folder_num.split(\"_n\")[1]\n",
    "        try:\n",
    "            if is_fgsm:\n",
    "                l = folder_num\n",
    "            else:\n",
    "                l = label_map.query(\"folder == @label_id\").values[0][1]\n",
    "        except:\n",
    "            l = None\n",
    "            failed_label.append(label_id) \n",
    "        n = image_processor(images=n, return_tensors=\"pt\")\n",
    "        data.append([l,n])\n",
    "\n",
    "    print(f\"\\nAll data was processed. Missing labels = {len(failed_label)}, Processed Data {len(data)}\")\n",
    "    return data"
   ]
  },
  {
   "cell_type": "code",
   "execution_count": 7,
   "metadata": {},
   "outputs": [],
   "source": [
    "def show_image(image, title='', is_numpy=False):\n",
    "    # image is [H, W, 3]\n",
    "    imagenet_std = torch.tensor(image_processor.image_std)\n",
    "    imagenet_mean = torch.tensor(image_processor.image_mean)\n",
    "    assert image.shape[2] == 3\n",
    "    if is_numpy:\n",
    "        plt.imshow(torch.from_numpy(image))\n",
    "    else:\n",
    "        plt.imshow(torch.clip((image * imagenet_std + imagenet_mean) * 255, 0, 255).int())\n",
    "    plt.title(title, fontsize=16)\n",
    "    plt.axis('off')\n",
    "    return"
   ]
  },
  {
   "cell_type": "code",
   "execution_count": 8,
   "metadata": {},
   "outputs": [],
   "source": [
    "class DS(Dataset):\n",
    "    def __init__(self, data):\n",
    "        super(Dataset, self).__init__()\n",
    "        self.data = data\n",
    "        \n",
    "    def __len__(self):\n",
    "        return len(data)\n",
    "        \n",
    "    def __getitem__(self, index):\n",
    "        # print(self.__len__() , index)\n",
    "        assert self.__len__() > index\n",
    "        return self.data[index][0], self.data[index][1]   #returning label, noise_img"
   ]
  },
  {
   "cell_type": "code",
   "execution_count": 9,
   "metadata": {},
   "outputs": [],
   "source": [
    "def get_predictions(dataloader, model):\n",
    "    predicted_labels = []\n",
    "    true_labels = []\n",
    "\n",
    "    device = torch.device(\"cuda\") if torch.cuda.is_available() else torch.device(\"cpu\")\n",
    "    print(f\"Currently using {device}\")\n",
    "\n",
    "    model = model.to(device)\n",
    "    model.eval()\n",
    "    with torch.no_grad():\n",
    "        for batch_idx, (labels, noise_inputs) in enumerate(tqdm(dataloader)):\n",
    "            inputs = noise_inputs.pixel_values.reshape(-1,3,224,224).to(device)\n",
    "            output = model(inputs)\n",
    "            logits = output.logits\n",
    "            logits = logits.detach().cpu()\n",
    "            predicted_class_idx = logits.argmax(-1)\n",
    "            for idx in predicted_class_idx:\n",
    "                predicted_labels.append(model.config.id2label[idx.item()])\n",
    "            true_labels.extend(labels)\n",
    "    \n",
    "    return predicted_labels, true_labels"
   ]
  },
  {
   "cell_type": "code",
   "execution_count": 10,
   "metadata": {},
   "outputs": [],
   "source": [
    "def string_accuracy(pred, truth):\n",
    "    if len(pred) != len(truth):\n",
    "        return 0.0\n",
    "\n",
    "    correct = sum([1 if pred[i] == truth[i] else 0 for i in range(len(pred))])\n",
    "    return float(correct) / len(pred)"
   ]
  },
  {
   "cell_type": "code",
   "execution_count": 11,
   "metadata": {},
   "outputs": [],
   "source": [
    "image_processor = AutoImageProcessor.from_pretrained(\"google/vit-base-patch16-224\") \n",
    "model = ViTForImageClassification.from_pretrained(\"google/vit-base-patch16-224\") "
   ]
  },
  {
   "cell_type": "code",
   "execution_count": 17,
   "metadata": {},
   "outputs": [
    {
     "name": "stdout",
     "output_type": "stream",
     "text": [
      "Reading pass- 2\n",
      "Reading file: ../data/noise_recon_pass_2_image_gaussian_noise_50.pkl\n",
      "\n",
      "Reading file: ../data/noise_recon_labels_image_gaussian_noise_50.pkl\n",
      "\n",
      "Length of data: 8817\n",
      "Processing Data...\n"
     ]
    },
    {
     "name": "stderr",
     "output_type": "stream",
     "text": [
      "100%|██████████| 8817/8817 [00:50<00:00, 174.26it/s]\n"
     ]
    },
    {
     "name": "stdout",
     "output_type": "stream",
     "text": [
      "\n",
      "All data was processed. Missing labels = 0, Processed Data 8817\n",
      "Predicting labels\n",
      "Currently using cuda\n"
     ]
    },
    {
     "name": "stderr",
     "output_type": "stream",
     "text": [
      "100%|██████████| 552/552 [01:50<00:00,  4.99it/s]"
     ]
    },
    {
     "name": "stdout",
     "output_type": "stream",
     "text": [
      "Accuracy is:0.226267437904049 on gaussian_noise model with masking ratio 0.5\n",
      "Model: gaussian_noise\n",
      "Input: noise with recon\n",
      "Masking: 0.5\n",
      "Accuracy: 0.226267437904049\n"
     ]
    },
    {
     "name": "stderr",
     "output_type": "stream",
     "text": [
      "\n"
     ]
    }
   ],
   "source": [
    "INPUT_DATA = \"noise\"   #[\"noise\", \"clean\"]\n",
    "RECON_AND_VIS = False\n",
    "FINETUNE = \"gaussian_noise\"      #[\"None\", \"gaussian_noise\", \"fgsm\"]\n",
    "MASKING_RATIO = 0.50   #[0.75, 0.5, 0.2]\n",
    "is_fgsm = False\n",
    "PASS_NO = \"2\"          #[\"1\", \"2\"]\n",
    "\n",
    "print(\"Reading pass-\",PASS_NO)\n",
    "\n",
    "img_data_pass_1 = read_data(input_data=INPUT_DATA, \n",
    "                            pass_no = PASS_NO, \n",
    "                            finetune=FINETUNE, \n",
    "                            masking_ratio=MASKING_RATIO,\n",
    "                            recon_and_vis = RECON_AND_VIS)\n",
    "\n",
    "labels = read_labels(input_data=INPUT_DATA, \n",
    "                    finetune=FINETUNE,\n",
    "                    masking_ratio=MASKING_RATIO,\n",
    "                    recon_and_vis = RECON_AND_VIS)\n",
    "\n",
    "data = process_data(labels, img_data_pass_1, is_fgsm)\n",
    "\n",
    "ds = DS(data)\n",
    "test_dataloader = DataLoader(ds, batch_size=16, shuffle=True)\n",
    "\n",
    "print(\"Predicting labels\")\n",
    "predicted_labels, true_labels = get_predictions(test_dataloader, model)\n",
    "\n",
    "acc = string_accuracy(predicted_labels, true_labels)\n",
    "\n",
    "model_type = \"baseline\" if FINETUNE==\"None\" else FINETUNE\n",
    "file_type = \"recon and vis\" if RECON_AND_VIS else \"recon\"\n",
    "\n",
    "print(f\"Accuracy is:{acc} on {model_type} model with masking ratio {MASKING_RATIO}\")\n",
    "\n",
    "print(f\"Model: {model_type}\")\n",
    "print(f\"Input: {INPUT_DATA} with {file_type}\")\n",
    "print(f\"Masking: {MASKING_RATIO}\")\n",
    "print(f\"Accuracy: {acc}\")"
   ]
  },
  {
   "cell_type": "markdown",
   "metadata": {},
   "source": [
    "| Model | Input | Mask | Accuracy |\n",
    "| -- | --| -- | -- |\n",
    "|Baseline|clean, recon and vis|0.75|51.65\n",
    "|Baseline|clean, recon |0.75|43.74\n",
    "|Baseline|noise, recon and vis|0.75|31.48\n",
    "|Baseline|noise, recon |0.75|33.76\n",
    "|Finetune(gaussian)|clean, recon and vis|0.75|41.65\n",
    "|Finetune(gaussian)|clean, recon|0.75|31.41\n",
    "|Finetune(gaussian)|noise, recon and vis|0.75|28.18\n",
    "|Finetune(gaussian)|noise, recon|0.75|31.47\n",
    "|Finetune(gaussian)|noise, recon and vis, pass 2|0.75|14.25\n",
    "|Finetune(gaussian)|noise, recon, pass 2|0.75|10.35\n",
    "| -- | --| -- | -- |\n",
    "|Baseline|clean, recon and vis|0.50|66.56\n",
    "|Baseline|clean, recon|0.50|58.12\n",
    "|Baseline|noise, recon and vis|0.50|48.31\n",
    "|Baseline|noise, recon|0.50|51.76\n",
    "|Baseline|noise, recon and vis, pass 2|0.50|34.31\n",
    "|Baseline|noise, recon, pass 2|0.50|30.88\n",
    "|Finetune(gaussian)|clean, recon and vis|0.50|66.26\n",
    "|Finetune(gaussian)|clean, recon|0.50|45.82\n",
    "|Finetune(gaussian)|noise, recon and vis|0.50|48.50\n",
    "|Finetune(gaussian)|noise, recon|0.50|46.19\n",
    "|Finetune(gaussian)|noise, recon and vis, pass 2|0.50|34.96\n",
    "|Finetune(gaussian)|noise, recon, pass 2|0.50|22.62\n",
    "| -- | --| -- | -- |\n",
    "|Baseline|fgsm noise, recon and vis|0.75|2.67\n",
    "|Baseline|fgsm noise, recon and vis, pass 2|0.75|1.47\n",
    "|Baseline|fgsm clean, recon and vis|0.75|29.2\n",
    "|Baseline|fgsm clean, recon and vis, pass 2|0.75|6.41\n",
    "|Baseline|fgsm noise, recon|0.75|2.79\n",
    "|Baseline|fgsm noise, recon, pass 2|0.75|0.09\n",
    "|Baseline|fgsm clean, recon|0.75|11.5\n",
    "|Baseline|fgsm clean, recon, pass 2|0.75|2.69\n",
    "|Finetune(fgsm)|fgsm noise, recon and vis|0.75|9.72\n",
    "|Finetune(fgsm)|fgsm noise, recon and vis, pass 2|0.75|3.86\n",
    "|Finetune(fgsm)|fgsm clean, recon and vis|0.75|28.9\n",
    "|Finetune(fgsm)|fgsm clean, recon and vis, pass 2|0.75|6.55\n",
    "|Finetune(fgsm)|fgsm noise, recon|0.75|15.9\n",
    "|Finetune(fgsm)|fgsm noise, recon, pass 2|0.75|2.81\n",
    "|Finetune(fgsm)|fgsm clean, recon|0.75|12.29\n",
    "|Finetune(fgsm)|fgsm clean, recon, pass 2|0.75|2.39\n",
    "| -- | --| -- | -- |\n",
    "|Baseline|fgsm noise, recon and vis|0.50|12.35\n",
    "|Baseline|fgsm noise, recon and vis, pass 2|0.50|10.28\n",
    "|Baseline|fgsm clean, recon and vis|0.50|69.15\n",
    "|Baseline|fgsm clean, recon and vis, pass 2|0.50|34.7\n",
    "|Baseline|fgsm noise, recon|0.50|25.52\n",
    "|Baseline|fgsm noise, recon, pass 2|0.50|6.87\n",
    "|Baseline|fgsm clean, recon|0.50|21.83\n",
    "|Baseline|fgsm clean, recon, pass 2|0.50|7.17\n",
    "|Finetune(fgsm)|fgsm noise, recon and vis|0.50|12.49\n",
    "|Finetune(fgsm)|fgsm noise, recon and vis, pass 2|0.50|10.46\n",
    "|Finetune(fgsm)|fgsm clean, recon and vis|0.50|68.53\n",
    "|Finetune(fgsm)|fgsm clean, recon and vis, pass 2|0.50|35.16\n",
    "|Finetune(fgsm)|fgsm noise, recon|0.50|26.36\n",
    "|Finetune(fgsm)|fgsm noise, recon, pass 2|0.50|7.13\n",
    "|Finetune(fgsm)|fgsm clean, recon|0.50|22.09\n",
    "|Finetune(fgsm)|fgsm clean, recon, pass 2|0.50|7.02"
   ]
  },
  {
   "cell_type": "markdown",
   "metadata": {
    "jp-MarkdownHeadingCollapsed": true,
    "tags": []
   },
   "source": [
    "Epsilon: 0.1\tTest Accuracy = 2233 / 8817 = 0.25326074628558465"
   ]
  },
  {
   "cell_type": "code",
   "execution_count": null,
   "metadata": {},
   "outputs": [],
   "source": []
  },
  {
   "cell_type": "code",
   "execution_count": null,
   "metadata": {},
   "outputs": [],
   "source": []
  },
  {
   "cell_type": "code",
   "execution_count": null,
   "metadata": {},
   "outputs": [],
   "source": []
  },
  {
   "cell_type": "code",
   "execution_count": null,
   "metadata": {},
   "outputs": [],
   "source": []
  },
  {
   "cell_type": "code",
   "execution_count": null,
   "metadata": {},
   "outputs": [],
   "source": []
  },
  {
   "cell_type": "code",
   "execution_count": null,
   "metadata": {},
   "outputs": [],
   "source": []
  },
  {
   "cell_type": "code",
   "execution_count": null,
   "metadata": {
    "id": "6r2ylrQHPK_x"
   },
   "outputs": [],
   "source": [
    "# clean acc = 81% (directly clean image)\n",
    "# recon clean acc(base MAE)(only reconstruction) = 31.66% XXXXX\n",
    "# clean (finetune MAE)(recon + visible) = 41.91%   MASK = 75% \n",
    "# clean (finetune MAE)(recon + visible) = 66.29%   MASK = 50% \n",
    "\n",
    "# noise acc = 76.89%\n",
    "# recons acc single pass(only reconstruction) = 31.63%\n",
    "# noise(finetune)(renconstruction+visible) = 28.89%  MASK = 75% \n",
    "# noise(finetune)(reconstruction+visible) = 48.46%   MASK = 50%\n",
    "\n",
    "# NOise --- first 50 and inverse 50\n"
   ]
  },
  {
   "cell_type": "code",
   "execution_count": 13,
   "metadata": {},
   "outputs": [],
   "source": [
    "# FGSM attack code\n",
    "def fgsm_attack(image, epsilon, data_grad):\n",
    "    # Collect the element-wise sign of the data gradient\n",
    "    sign_data_grad = data_grad.sign()\n",
    "    # Create the perturbed image by adjusting each pixel of the input image\n",
    "    perturbed_image = image + epsilon*sign_data_grad\n",
    "    # Adding clipping to maintain [0,1] range\n",
    "    perturbed_image = torch.clamp(perturbed_image, 0, 1)\n",
    "    # Return the perturbed image\n",
    "    return perturbed_image"
   ]
  },
  {
   "cell_type": "code",
   "execution_count": 14,
   "metadata": {},
   "outputs": [],
   "source": [
    "def test(model, test_loader, epsilon):\n",
    "\n",
    "    # Accuracy counter\n",
    "    correct = 0\n",
    "    adv_examples = []\n",
    "    \n",
    "    print(f\"Currently using {device}\")\n",
    "\n",
    "    model = model.to(device)\n",
    "    model.eval()\n",
    "    # Loop over all examples in test set\n",
    "    for batch_idx, (labels, clean_inputs) in enumerate(tqdm(test_loader)):\n",
    "        data, target = clean_inputs.pixel_values.reshape(-1,3,224,224), torch.tensor(model.config.label2id[labels[0]])\n",
    "        # print(data, target)\n",
    "        # Send the data and label to the device\n",
    "        data, target = data.to(device), target.to(device)\n",
    "\n",
    "        # Set requires_grad attribute of tensor. Important for Attack\n",
    "        data.requires_grad = True\n",
    "\n",
    "        # Forward pass the data through the model\n",
    "        output = model(data)\n",
    "        logits = output.logits.squeeze(0)\n",
    "        init_pred = logits.argmax(-1)\n",
    "        # print(logits.squeeze(0).shape)\n",
    "        # output = model(data)\n",
    "        # init_pred = output.max(1, keepdim=True)[1] # get the index of the max log-probability\n",
    "\n",
    "        # If the initial prediction is wrong, don't bother attacking, just move on\n",
    "        if init_pred.item() != target.item():\n",
    "            continue\n",
    "\n",
    "        # Calculate the loss\n",
    "        loss = F.nll_loss(logits, target)\n",
    "\n",
    "        # Zero all existing gradients\n",
    "        model.zero_grad()\n",
    "\n",
    "        # Calculate gradients of model in backward pass\n",
    "        loss.backward()\n",
    "\n",
    "        # Collect ``datagrad``\n",
    "        data_grad = data.grad.data\n",
    "\n",
    "        # Call FGSM Attack\n",
    "        perturbed_data = fgsm_attack(data, epsilon, data_grad)\n",
    "\n",
    "        # Re-classify the perturbed image\n",
    "        output = model(perturbed_data)\n",
    "        logits = output.logits.squeeze(0)\n",
    "\n",
    "        # Check for success\n",
    "        final_pred = logits.argmax(-1) # get the index of the max log-probability\n",
    "        if final_pred.item() == target.item():\n",
    "            correct += 1\n",
    "            # Special case for saving 0 epsilon examples\n",
    "            if (epsilon == 0) and (len(adv_examples) < 5):\n",
    "                adv_ex = perturbed_data.squeeze().detach().cpu().numpy()\n",
    "                adv_examples.append( (init_pred.item(), final_pred.item(), adv_ex) )\n",
    "        else:\n",
    "            # Save some adv examples for visualization later\n",
    "            # adv_ex = perturbed_data.squeeze().detach().cpu().numpy()\n",
    "            # adv_examples.append( (init_pred.item(), final_pred.item(), adv_ex) )\n",
    "            adv_ex = [labels[0], perturbed_data.detach().cpu(), data.detach().cpu()]\n",
    "            # print(adv_ex)\n",
    "            adv_examples.append(adv_ex)\n",
    "            # print(adv_examples)\n",
    "        \n",
    "        del data, target, perturbed_data, final_pred, init_pred, loss\n",
    "            \n",
    "        # show_image(torch.einsum('chw->hwc', data.detach().cpu().view(3,224,224)))\n",
    "        # print(labels[0], model.config.id2label[init_pred.item()], model.config.id2label[final_pred.item()])\n",
    "\n",
    "    # Calculate final accuracy for this epsilon\n",
    "    final_acc = correct/float(len(test_loader))\n",
    "    print(\"Epsilon: {}\\tTest Accuracy = {} / {} = {}\".format(epsilon, correct, len(test_loader), final_acc))\n",
    "\n",
    "    # Return the accuracy and an adversarial example\n",
    "    return final_acc, adv_examples"
   ]
  },
  {
   "cell_type": "code",
   "execution_count": 15,
   "metadata": {},
   "outputs": [
    {
     "name": "stdout",
     "output_type": "stream",
     "text": [
      "Currently using cuda\n"
     ]
    },
    {
     "name": "stderr",
     "output_type": "stream",
     "text": [
      "100%|██████████| 8817/8817 [08:31<00:00, 17.24it/s]"
     ]
    },
    {
     "name": "stdout",
     "output_type": "stream",
     "text": [
      "Epsilon: 0.1\tTest Accuracy = 2233 / 8817 = 0.25326074628558465\n"
     ]
    },
    {
     "name": "stderr",
     "output_type": "stream",
     "text": [
      "\n"
     ]
    }
   ],
   "source": [
    "accuracies = []\n",
    "examples = []\n",
    "# epsilons = [0, .05, .1, .15, .2, .25, .3]\n",
    "epsilons = [0.1]\n",
    "device = \"cuda\"\n",
    "ds = DS(data)\n",
    "test_dataloader = DataLoader(ds, batch_size=1, shuffle=True)\n",
    "\n",
    "# Run test for each epsilon\n",
    "for eps in epsilons:    \n",
    "    acc, ex = test(model, test_dataloader, eps)\n",
    "    accuracies.append(acc)\n",
    "    examples.append(ex)"
   ]
  },
  {
   "cell_type": "code",
   "execution_count": 16,
   "metadata": {},
   "outputs": [],
   "source": [
    "examples = examples[0]\n",
    "label_cnt = {}\n",
    "for e in examples:\n",
    "    l = e[0]\n",
    "    if l in label_cnt:\n",
    "        label_cnt[l] += 1\n",
    "    else:\n",
    "        label_cnt[l] = 1"
   ]
  },
  {
   "cell_type": "code",
   "execution_count": 17,
   "metadata": {},
   "outputs": [
    {
     "data": {
      "text/plain": [
       "696"
      ]
     },
     "execution_count": 17,
     "metadata": {},
     "output_type": "execute_result"
    }
   ],
   "source": [
    "c = 0\n",
    "for l in model.config.label2id.keys():\n",
    "    if l not in label_cnt:\n",
    "        c += 1\n",
    "        # print(l)\n",
    "c"
   ]
  },
  {
   "cell_type": "code",
   "execution_count": 18,
   "metadata": {},
   "outputs": [
    {
     "data": {
      "text/plain": [
       "['whistle',\n",
       " array([[[133, 150, 127],\n",
       "         [127, 143, 127],\n",
       "         [127, 127, 127],\n",
       "         ...,\n",
       "         [147, 164, 131],\n",
       "         [147, 164, 156],\n",
       "         [127, 162, 153]],\n",
       " \n",
       "        [[127, 137, 127],\n",
       "         [127, 142, 127],\n",
       "         [127, 145, 127],\n",
       "         ...,\n",
       "         [148, 165, 131],\n",
       "         [147, 164, 129],\n",
       "         [127, 163, 153]],\n",
       " \n",
       "        [[127, 127, 127],\n",
       "         [127, 127, 127],\n",
       "         [133, 132, 127],\n",
       "         ...,\n",
       "         [147, 164, 129],\n",
       "         [146, 163, 128],\n",
       "         [147, 164, 154]],\n",
       " \n",
       "        ...,\n",
       " \n",
       "        [[155, 174, 168],\n",
       "         [153, 172, 166],\n",
       "         [155, 172, 166],\n",
       "         ...,\n",
       "         [140, 157, 127],\n",
       "         [127, 158, 150],\n",
       "         [127, 158, 150]],\n",
       " \n",
       "        [[154, 173, 166],\n",
       "         [129, 148, 142],\n",
       "         [156, 173, 167],\n",
       "         ...,\n",
       "         [127, 159, 127],\n",
       "         [127, 136, 149],\n",
       "         [127, 159, 151]],\n",
       " \n",
       "        [[156, 173, 165],\n",
       "         [156, 174, 166],\n",
       "         [155, 172, 166],\n",
       "         ...,\n",
       "         [129, 164, 156],\n",
       "         [127, 159, 144],\n",
       "         [127, 156, 146]]], dtype=int32),\n",
       " array([[[121, 138,  79],\n",
       "         [114, 131,  77],\n",
       "         [112, 135,  72],\n",
       "         ...,\n",
       "         [135, 152, 144],\n",
       "         [135, 152, 144],\n",
       "         [133, 150, 141]],\n",
       " \n",
       "        [[104, 125,  74],\n",
       "         [110, 130,  88],\n",
       "         [113, 133,  97],\n",
       "         ...,\n",
       "         [136, 153, 144],\n",
       "         [135, 152, 142],\n",
       "         [134, 151, 141]],\n",
       " \n",
       "        [[109, 130,  92],\n",
       "         [117, 138, 104],\n",
       "         [121, 145, 111],\n",
       "         ...,\n",
       "         [135, 152, 142],\n",
       "         [134, 151, 141],\n",
       "         [135, 152, 142]],\n",
       " \n",
       "        ...,\n",
       " \n",
       "        [[143, 162, 156],\n",
       "         [141, 160, 154],\n",
       "         [143, 160, 154],\n",
       "         ...,\n",
       "         [128, 145, 137],\n",
       "         [129, 146, 138],\n",
       "         [130, 146, 138]],\n",
       " \n",
       "        [[142, 161, 154],\n",
       "         [142, 161, 155],\n",
       "         [144, 161, 155],\n",
       "         ...,\n",
       "         [128, 147, 137],\n",
       "         [130, 149, 137],\n",
       "         [130, 147, 139]],\n",
       " \n",
       "        [[144, 161, 153],\n",
       "         [144, 162, 154],\n",
       "         [143, 160, 154],\n",
       "         ...,\n",
       "         [117, 152, 144],\n",
       "         [125, 147, 132],\n",
       "         [130, 144, 134]]], dtype=int32)]"
      ]
     },
     "execution_count": 18,
     "metadata": {},
     "output_type": "execute_result"
    }
   ],
   "source": [
    "denorm_data = []\n",
    "# imagenet_mean = np.array(image_processor.image_mean)\n",
    "# imagenet_std = np.array(image_processor.image_std)\n",
    "for l, adv_img, clean_img in examples:\n",
    "    denorm_data.append([l, torch.clip((torch.einsum('chw->hwc', adv_img.squeeze(0))* imagenet_std + imagenet_mean) * 255, 0, 255).int().numpy(), \n",
    "                       torch.clip((torch.einsum('chw->hwc', clean_img.squeeze(0))* imagenet_std + imagenet_mean) * 255, 0, 255).int().numpy()])\n",
    "denorm_data[0]"
   ]
  },
  {
   "cell_type": "code",
   "execution_count": 19,
   "metadata": {},
   "outputs": [],
   "source": [
    "fileObject = open(path+f\"data/adv_test_cropped_name.pkl\", 'wb')\n",
    "pkl.dump(denorm_data, fileObject)\n",
    "fileObject.close()"
   ]
  },
  {
   "cell_type": "code",
   "execution_count": 16,
   "metadata": {},
   "outputs": [],
   "source": [
    "torch.cuda.empty_cache()"
   ]
  },
  {
   "cell_type": "code",
   "execution_count": 22,
   "metadata": {},
   "outputs": [
    {
     "data": {
      "image/png": "[encoded data removed]",
      "text/plain": [
       "<Figure size 640x480 with 1 Axes>"
      ]
     },
     "metadata": {},
     "output_type": "display_data"
    }
   ],
   "source": [
    "(true_label, img, true_img) = examples[0]\n",
    "(true_label, img, true_img) = denorm_data[0]\n",
    "# show_image(torch.einsum('chw->hwc', img.squeeze(0)), f\"True: {true_label}\")\n",
    "show_image(img, true_label, is_numpy=True)"
   ]
  },
  {
   "cell_type": "code",
   "execution_count": 23,
   "metadata": {},
   "outputs": [
    {
     "data": {
      "text/plain": [
       "4980"
      ]
     },
     "execution_count": 23,
     "metadata": {},
     "output_type": "execute_result"
    }
   ],
   "source": [
    "len(denorm_data)"
   ]
  },
  {
   "cell_type": "markdown",
   "metadata": {
    "id": "BuBzAE9Sbhj8",
    "jp-MarkdownHeadingCollapsed": true,
    "tags": []
   },
   "source": [
    "#\n",
    "\n",
    "```\n",
    "# This is formatted as code\n",
    "```\n",
    "\n",
    "# Dummy Code"
   ]
  },
  {
   "cell_type": "markdown",
   "metadata": {
    "id": "uYOI4sYJVxfL",
    "tags": []
   },
   "source": [
    "## MAE"
   ]
  },
  {
   "cell_type": "code",
   "execution_count": 4,
   "metadata": {
    "colab": {
     "base_uri": "https://localhost:8080/",
     "height": 113,
     "referenced_widgets": [
      "3f0d2f177fe642f29d831990e2833b98",
      "ae8eb676187647378ce02409ad5850a8",
      "01ceb4e0cac94eab80409763b7244ebf",
      "6055ffa43e7a411d98492a54c0bb80c7",
      "0513150ccb344919b741ae76fd8004f4",
      "b3af0f5d270942e5952198ff9528c2aa",
      "516e4fb05d9d49f4a49ab1d772923665",
      "e6e3cde9bc644277b96da18fc467776f",
      "cfa21c7b3d6a40c38848cf3e75c72d4b",
      "b806af47bbd94529a69dc9fbf477fa25",
      "cce236abddf8437ba9ebe5a91d5b3586",
      "b7a49dac9bdd4f91a07e1da8d642f595",
      "5e6f5689462a485299356b00bd6da8a4",
      "0c9f39702ae2478eab80f1f3d02175ea",
      "47d5b4c3341949f688fa63216685226e",
      "4ff770010c224bd394023efde6f59cf1",
      "dae9dfe695d5459abe5044010602eebc",
      "cacdcd3f5f1d43f0b80aba3e9449686c",
      "f373ddd516a244a0828e26e1ed334188",
      "58bc3b0e1f1641ca8dcda179dce1d088",
      "49dd3e6e7b8e44619b684d98221b802d",
      "226f188bbf4f4c4cb6912d4d1f8cfedf",
      "1aa40b7a1a424df98fa7bebb6964acb1",
      "b07a6fc3b00d41e49c97067cdb14a1e2",
      "adf1e997daf44e66a7d93e59b6be6989",
      "97022215f3104c0c913cb063f1a28cdf",
      "f71a0e6fc0db4c149278bcd437741d2d",
      "13176a42da934c9eb0c20f4f0f70bb65",
      "441375d47e694e04a269a337a917c844",
      "5e2755c5f2b94a62b89374bcf96d526d",
      "0aab834fdd7f42b8b75a65cd4f37b24d",
      "9d95e5e3ee694d0b8358460a15ba8dcd",
      "7bae3f5ad6404674bb81134aa42d88a0"
     ]
    },
    "executionInfo": {
     "elapsed": 7297,
     "status": "ok",
     "timestamp": 1681889262644,
     "user": {
      "displayName": "Siddharth Byale",
      "userId": "13836715694971561515"
     },
     "user_tz": 420
    },
    "id": "btYD-yiXVxBa",
    "outputId": "da5949f8-ad31-49d5-e9e6-22e3f19392e1"
   },
   "outputs": [
    {
     "data": {
      "application/vnd.jupyter.widget-view+json": {
       "model_id": "3f0d2f177fe642f29d831990e2833b98",
       "version_major": 2,
       "version_minor": 0
      },
      "text/plain": [
       "Downloading (…)rocessor_config.json:   0%|          | 0.00/217 [00:00<?, ?B/s]"
      ]
     },
     "metadata": {},
     "output_type": "display_data"
    },
    {
     "data": {
      "application/vnd.jupyter.widget-view+json": {
       "model_id": "b7a49dac9bdd4f91a07e1da8d642f595",
       "version_major": 2,
       "version_minor": 0
      },
      "text/plain": [
       "Downloading (…)lve/main/config.json:   0%|          | 0.00/676 [00:00<?, ?B/s]"
      ]
     },
     "metadata": {},
     "output_type": "display_data"
    },
    {
     "data": {
      "application/vnd.jupyter.widget-view+json": {
       "model_id": "1aa40b7a1a424df98fa7bebb6964acb1",
       "version_major": 2,
       "version_minor": 0
      },
      "text/plain": [
       "Downloading pytorch_model.bin:   0%|          | 0.00/448M [00:00<?, ?B/s]"
      ]
     },
     "metadata": {},
     "output_type": "display_data"
    }
   ],
   "source": [
    "\n",
    "import transformers\n",
    "from transformers import ViTMAEForPreTraining, AutoImageProcessor\n",
    "\n",
    "image_processor = AutoImageProcessor.from_pretrained('facebook/vit-mae-base')\n",
    "model = ViTMAEForPreTraining.from_pretrained('facebook/vit-mae-base')"
   ]
  },
  {
   "cell_type": "code",
   "execution_count": 6,
   "metadata": {
    "executionInfo": {
     "elapsed": 39273,
     "status": "ok",
     "timestamp": 1681889320287,
     "user": {
      "displayName": "Siddharth Byale",
      "userId": "13836715694971561515"
     },
     "user_tz": 420
    },
    "id": "ucLzsVcVV-Su"
   },
   "outputs": [],
   "source": [
    "# match adversarial image (input) with clean image (target)\n",
    "\n",
    "# had to split up pickle files for size\n",
    "\n",
    "# data = [] # [[adv_0, clean_0], ..., [adv_k, clean_k]]\n",
    "import pickle as pkl\n",
    "data = open(\"./drive/MyDrive/566 Project/data/test1_cropped_name\", 'rb')\n",
    "data1 = pkl.load(data)\n",
    "data = open(\"./drive/MyDrive/566 Project/data/test2_cropped_name\", 'rb')\n",
    "data2 = pkl.load(data)\n",
    "\n",
    "unprocessed_data = (data1 + data2)\n",
    "# unprocessed_data = data1"
   ]
  },
  {
   "cell_type": "code",
   "execution_count": 8,
   "metadata": {
    "colab": {
     "base_uri": "https://localhost:8080/"
    },
    "executionInfo": {
     "elapsed": 41117,
     "status": "ok",
     "timestamp": 1681889439696,
     "user": {
      "displayName": "Siddharth Byale",
      "userId": "13836715694971561515"
     },
     "user_tz": 420
    },
    "id": "F6XC57QzV8_J",
    "outputId": "d8f26a29-5e05-4cc9-b196-9aa0ea69412b"
   },
   "outputs": [
    {
     "name": "stdout",
     "output_type": "stream",
     "text": [
      "8817\n"
     ]
    }
   ],
   "source": [
    "data = []\n",
    "for i in range(len(unprocessed_data)):\n",
    "  name, n,c = unprocessed_data[i]\n",
    "  if len(n.shape) == 3 and len(c.shape) == 3: \n",
    "    n = image_processor(images=n, return_tensors=\"pt\")\n",
    "    c = image_processor(images=c, return_tensors=\"pt\")\n",
    "    data.append([name, n,c])\n",
    "\n",
    "\n",
    "print(len(data))"
   ]
  },
  {
   "cell_type": "code",
   "execution_count": 9,
   "metadata": {
    "executionInfo": {
     "elapsed": 330,
     "status": "ok",
     "timestamp": 1681889447306,
     "user": {
      "displayName": "Siddharth Byale",
      "userId": "13836715694971561515"
     },
     "user_tz": 420
    },
    "id": "S5_NljIMWJQo"
   },
   "outputs": [],
   "source": [
    "# load data into dataset object for dataloader\n",
    "import torch\n",
    "import torchvision\n",
    "from torch.utils.data import Dataset, DataLoader\n",
    "from torchvision import datasets, transforms\n",
    "\n",
    "class DS(Dataset):\n",
    "     def __init__(self, data):\n",
    "         super(Dataset, self).__init__()\n",
    "         self.data = data\n",
    "        \n",
    "     def __len__(self):\n",
    "         return len(data)\n",
    "        \n",
    "     def __getitem__(self, index):\n",
    "        # print(self.__len__() , index)\n",
    "        assert self.__len__() > index\n",
    "        return self.data[index][0], self.data[index][1], self.data[index][2]\n",
    "    \n",
    "     def getname(self, index):\n",
    "        assert self.__len__() > index\n",
    "        return self.data[index][0]\n",
    "\n",
    "\n",
    "ds = DS(data)\n",
    "test_dataloader = DataLoader(ds, batch_size=8, shuffle=True)"
   ]
  },
  {
   "cell_type": "code",
   "execution_count": 10,
   "metadata": {
    "executionInfo": {
     "elapsed": 2,
     "status": "ok",
     "timestamp": 1681889448938,
     "user": {
      "displayName": "Siddharth Byale",
      "userId": "13836715694971561515"
     },
     "user_tz": 420
    },
    "id": "Uo4ig0z1Wv50"
   },
   "outputs": [],
   "source": [
    "def custom_forward(x, model, noise=None, viz=True):\n",
    "  # x = x.unsqueeze(dim=0)\n",
    "  # x = torch.einsum('nhwc->nchw', x)\n",
    "  outs = model.forward(x, noise)\n",
    "  loss = outs[\"loss\"]\n",
    "  y = outs[\"logits\"]\n",
    "  mask = outs[\"mask\"]\n",
    "  y_ = model.unpatchify(y)\n",
    "  y = torch.einsum('nchw->nhwc', y_).detach().cpu()\n",
    "\n",
    "  if viz:\n",
    "\n",
    "    # visualize the mask\n",
    "    mask = mask.detach()\n",
    "    # mask.shape\n",
    "    mask = mask.unsqueeze(-1).repeat(1, 1, 16**2 *3)  # (N, H*W, p*p*3)\n",
    "    mask = model.unpatchify(mask)  # 1 is removing, 0 is keeping\n",
    "    mask = torch.einsum('nchw->nhwc', mask).detach().cpu()\n",
    "\n",
    "    x = torch.einsum('nchw->nhwc', x)\n",
    "\n",
    "    # masked image\n",
    "    im_masked = x * (1 - mask)\n",
    "\n",
    "    # MAE reconstruction pasted with visible patches\n",
    "    im_paste = x * (1 - mask) + y * mask\n",
    "\n",
    "    # make the plt figure larger\n",
    "    plt.rcParams['figure.figsize'] = [24, 24]\n",
    "\n",
    "    plt.subplot(1, 4, 1)\n",
    "    show_image(x[0], \"original\")\n",
    "\n",
    "    plt.subplot(1, 4, 2)\n",
    "    show_image(im_masked[0], \"masked\")\n",
    "\n",
    "    plt.subplot(1, 4, 3)\n",
    "    show_image(y[0], \"reconstruction\")\n",
    "\n",
    "    plt.subplot(1, 4, 4)\n",
    "    show_image(im_paste[0], \"reconstruction + visible\")\n",
    "\n",
    "    plt.show()\n",
    "\n",
    "  return y_"
   ]
  },
  {
   "cell_type": "code",
   "execution_count": 11,
   "metadata": {
    "colab": {
     "base_uri": "https://localhost:8080/"
    },
    "executionInfo": {
     "elapsed": 41636,
     "status": "ok",
     "timestamp": 1681889492559,
     "user": {
      "displayName": "Siddharth Byale",
      "userId": "13836715694971561515"
     },
     "user_tz": 420
    },
    "id": "cxatc_NVWYC9",
    "outputId": "d1b64c59-b781-46af-93ea-63f271d38d08"
   },
   "outputs": [
    {
     "name": "stderr",
     "output_type": "stream",
     "text": [
      "100%|██████████| 1103/1103 [00:41<00:00, 26.74it/s]"
     ]
    },
    {
     "name": "stdout",
     "output_type": "stream",
     "text": [
      "\n",
      "Done! :D\n"
     ]
    },
    {
     "name": "stderr",
     "output_type": "stream",
     "text": [
      "\n"
     ]
    }
   ],
   "source": [
    "# save noisy reconstructions\n",
    "\n",
    "model.eval()\n",
    "device = \"cuda\"\n",
    "model.to(device)\n",
    "\n",
    "first_pass_img = []\n",
    "first_pass_label = []\n",
    "second_pass_img = [] \n",
    "second_pass_label = []\n",
    "\n",
    "seq_length=196\n",
    "\n",
    "stop = 1000\n",
    "\n",
    "\n",
    "for i, (name, noise_inputs, clean_inputs) in enumerate(tqdm(test_dataloader)):\n",
    "\n",
    "  batch_size = clean_inputs.pixel_values.size()[0]\n",
    "\n",
    "  noise = torch.rand(batch_size, seq_length).to(device)\n",
    "  \n",
    "  inputs = clean_inputs.pixel_values.view(batch_size,3,224,224).to(device)  \n",
    "\n",
    "  rec_1 = custom_forward(inputs, model, noise, viz=False).detach()  \n",
    "\n",
    "  rec_1 = rec_1.to(device='cpu').numpy()\n",
    "\n",
    "\n",
    "  first_pass_img.extend(rec_1)\n",
    "  first_pass_label.extend(name)\n",
    "\n",
    "\n",
    "print(\"\\nDone! :D\")"
   ]
  },
  {
   "cell_type": "code",
   "execution_count": 12,
   "metadata": {
    "colab": {
     "base_uri": "https://localhost:8080/"
    },
    "executionInfo": {
     "elapsed": 341,
     "status": "ok",
     "timestamp": 1681889492814,
     "user": {
      "displayName": "Siddharth Byale",
      "userId": "13836715694971561515"
     },
     "user_tz": 420
    },
    "id": "ov7-sQDHY6p8",
    "outputId": "94e94ece-be7c-4d39-878f-23f00fc753ea"
   },
   "outputs": [
    {
     "data": {
      "text/plain": [
       "8817"
      ]
     },
     "execution_count": 12,
     "metadata": {},
     "output_type": "execute_result"
    }
   ],
   "source": [
    "first_pass_img_np = []\n",
    "for i in first_pass_img:\n",
    "  img = torch.einsum('chw->hwc', torch.from_numpy(i))\n",
    "  first_pass_img_np.append(img.numpy())\n",
    "# show_image(img)\n",
    "len(first_pass_img_np)"
   ]
  },
  {
   "cell_type": "code",
   "execution_count": null,
   "metadata": {
    "id": "GvGQ_-DvY_Qj"
   },
   "outputs": [],
   "source": [
    "# denomarlizing images and converting back to RGB\n",
    "import numpy as np\n",
    "\n",
    "denorm_first_pass_img = []\n",
    "\n",
    "imagenet_mean = np.array(image_processor.image_mean)\n",
    "imagenet_std = np.array(image_processor.image_std)\n",
    "\n",
    "for image in first_pass_img_np:\n",
    "  # image = image.reshape((224,224,3))\n",
    "\n",
    "  denorm_first_pass_img.append(torch.clip((torch.from_numpy(image)* imagenet_std + imagenet_mean) * 255, 0, 255).int().numpy())\n"
   ]
  },
  {
   "cell_type": "code",
   "execution_count": null,
   "metadata": {
    "id": "YuVV6SheXppx"
   },
   "outputs": [],
   "source": [
    "new_unprocessed_data = []\n",
    "for l, img in zip(first_pass_label,denorm_first_pass_img):\n",
    "  new_unprocessed_data.append(l,img)"
   ]
  },
  {
   "cell_type": "markdown",
   "metadata": {
    "id": "UBhqrdZUZgXI"
   },
   "source": [
    "### start  of ViT IC"
   ]
  },
  {
   "cell_type": "code",
   "execution_count": null,
   "metadata": {
    "id": "wW4woqcBZlvl"
   },
   "outputs": [],
   "source": [
    "image_processor = AutoImageProcessor.from_pretrained(\"google/vit-base-patch16-224\") \n",
    "model = ViTForImageClassification.from_pretrained(\"google/vit-base-patch16-224\") "
   ]
  },
  {
   "cell_type": "code",
   "execution_count": null,
   "metadata": {
    "id": "F_otC1lMZUcO"
   },
   "outputs": [],
   "source": [
    "#For RAM constraints\n",
    "FILES_TO_READ = min(14_000, len(new_unprocessed_data))\n",
    "\n",
    "data = []\n",
    "label_map = pd.read_csv(\"/content/drive/MyDrive/566 Project/data/labels.csv\", dtype={'0': 'string', '1':'string'}, names=['folder', 'label'], header=None, skiprows=1)\n",
    "label_map['folder'] = label_map['folder'].str[1:]\n",
    "failed_label = []\n",
    "\n",
    "for i in tqdm(range(FILES_TO_READ)):\n",
    "  folder_num, n = new_unprocessed_data[i]\n",
    "  if len(n.shape) == 3:\n",
    "    label_id = folder_num.split(\"_n\")[1]\n",
    "    try:\n",
    "      l = label_map.query(\"folder == @label_id\").values[0][1]\n",
    "    except:\n",
    "      l = None\n",
    "      failed_label.append(label_id) \n",
    "\n",
    "    n = image_processor(images=n, return_tensors=\"pt\")\n",
    "    data.append([l,n])\n",
    "\n",
    "\n",
    "print(\"\\nAll data was processed \")\n",
    "print(f\"Missing labels = {len(failed_label)}\")\n",
    "print(f\"Processed Data {len(data)}\")\n"
   ]
  },
  {
   "cell_type": "code",
   "execution_count": null,
   "metadata": {
    "id": "xRzbGJXbYf8d"
   },
   "outputs": [],
   "source": [
    "class DS(Dataset):\n",
    "     def __init__(self, data):\n",
    "         super(Dataset, self).__init__()\n",
    "         self.data = data\n",
    "        \n",
    "     def __len__(self):\n",
    "         return len(data)\n",
    "        \n",
    "     def __getitem__(self, index):\n",
    "        # print(self.__len__() , index)\n",
    "        assert self.__len__() > index\n",
    "        return self.data[index][0], self.data[index][1]   #returning label, noise_img"
   ]
  },
  {
   "cell_type": "code",
   "execution_count": null,
   "metadata": {
    "id": "lbngJIHmYkUA"
   },
   "outputs": [],
   "source": [
    "# for our dataset\n",
    "ds = DS(new_data)\n",
    "test_dataloader = DataLoader(ds, batch_size=16, shuffle=True)"
   ]
  },
  {
   "cell_type": "code",
   "execution_count": null,
   "metadata": {
    "id": "HxBIL5SSYsJT"
   },
   "outputs": [],
   "source": [
    "predicted_labels = []\n",
    "true_labels = []\n",
    "\n",
    "device = torch.device(\"cuda\") if torch.cuda.is_available() else torch.device(\"cpu\")\n",
    "print(f\"Currently using {device}\")\n",
    "\n",
    "model = model.to(device)\n",
    "model.eval()\n",
    "with torch.no_grad():\n",
    "    for batch_idx, (labels, noise_inputs) in enumerate(tqdm(test_dataloader)):\n",
    "        # print(batch_idx)\n",
    "        #TODO: fix the input model shape\n",
    "        #reshape input image to the VIT model\n",
    "        # pixel_values = noise_inputs[\"pixel_values\"]\n",
    "        # pixel_values = pixel_values.reshape(-1,3,224,224).to(device)\n",
    "\n",
    "        inputs = noise_inputs.pixel_values.reshape(-1,3,224,224).to(device)\n",
    "\n",
    "        output = model(inputs)\n",
    "        logits = output.logits\n",
    "        logits = logits.detach().cpu()\n",
    "        predicted_class_idx = logits.argmax(-1)\n",
    "        for idx in predicted_class_idx:\n",
    "            predicted_labels.append(model.config.id2label[idx.item()])\n",
    "        true_labels.extend(labels)"
   ]
  },
  {
   "cell_type": "code",
   "execution_count": null,
   "metadata": {
    "id": "2dT8oVLwZ7y_"
   },
   "outputs": [],
   "source": [
    "acc = string_accuracy(predicted_labels, true_labels)\n",
    "print(acc)"
   ]
  }
 ],
 "metadata": {
  "accelerator": "TPU",
  "colab": {
   "machine_shape": "hm",
   "provenance": []
  },
  "environment": {
   "kernel": "python3",
   "name": "pytorch-gpu.1-13.m104",
   "type": "gcloud",
   "uri": "gcr.io/deeplearning-platform-release/pytorch-gpu.1-13:m104"
  },
  "gpuClass": "premium",
  "kernelspec": {
   "display_name": "Python 3 (ipykernel)",
   "language": "python",
   "name": "python3"
  },
  "language_info": {
   "codemirror_mode": {
    "name": "ipython",
    "version": 3
   },
   "file_extension": ".py",
   "mimetype": "text/x-python",
   "name": "python",
   "nbconvert_exporter": "python",
   "pygments_lexer": "ipython3",
   "version": "3.7.12"
  },
  "widgets": {
   "application/vnd.jupyter.widget-state+json": {
    "01ceb4e0cac94eab80409763b7244ebf": {
     "model_module": "@jupyter-widgets/controls",
     "model_module_version": "1.5.0",
     "model_name": "FloatProgressModel",
     "state": {
      "_dom_classes": [],
      "_model_module": "@jupyter-widgets/controls",
      "_model_module_version": "1.5.0",
      "_model_name": "FloatProgressModel",
      "_view_count": null,
      "_view_module": "@jupyter-widgets/controls",
      "_view_module_version": "1.5.0",
      "_view_name": "ProgressView",
      "bar_style": "success",
      "description": "",
      "description_tooltip": null,
      "layout": "IPY_MODEL_e6e3cde9bc644277b96da18fc467776f",
      "max": 217,
      "min": 0,
      "orientation": "horizontal",
      "style": "IPY_MODEL_cfa21c7b3d6a40c38848cf3e75c72d4b",
      "value": 217
     }
    },
    "0513150ccb344919b741ae76fd8004f4": {
     "model_module": "@jupyter-widgets/base",
     "model_module_version": "1.2.0",
     "model_name": "LayoutModel",
     "state": {
      "_model_module": "@jupyter-widgets/base",
      "_model_module_version": "1.2.0",
      "_model_name": "LayoutModel",
      "_view_count": null,
      "_view_module": "@jupyter-widgets/base",
      "_view_module_version": "1.2.0",
      "_view_name": "LayoutView",
      "align_content": null,
      "align_items": null,
      "align_self": null,
      "border": null,
      "bottom": null,
      "display": null,
      "flex": null,
      "flex_flow": null,
      "grid_area": null,
      "grid_auto_columns": null,
      "grid_auto_flow": null,
      "grid_auto_rows": null,
      "grid_column": null,
      "grid_gap": null,
      "grid_row": null,
      "grid_template_areas": null,
      "grid_template_columns": null,
      "grid_template_rows": null,
      "height": null,
      "justify_content": null,
      "justify_items": null,
      "left": null,
      "margin": null,
      "max_height": null,
      "max_width": null,
      "min_height": null,
      "min_width": null,
      "object_fit": null,
      "object_position": null,
      "order": null,
      "overflow": null,
      "overflow_x": null,
      "overflow_y": null,
      "padding": null,
      "right": null,
      "top": null,
      "visibility": null,
      "width": null
     }
    },
    "0aab834fdd7f42b8b75a65cd4f37b24d": {
     "model_module": "@jupyter-widgets/controls",
     "model_module_version": "1.5.0",
     "model_name": "ProgressStyleModel",
     "state": {
      "_model_module": "@jupyter-widgets/controls",
      "_model_module_version": "1.5.0",
      "_model_name": "ProgressStyleModel",
      "_view_count": null,
      "_view_module": "@jupyter-widgets/base",
      "_view_module_version": "1.2.0",
      "_view_name": "StyleView",
      "bar_color": null,
      "description_width": ""
     }
    },
    "0c9f39702ae2478eab80f1f3d02175ea": {
     "model_module": "@jupyter-widgets/controls",
     "model_module_version": "1.5.0",
     "model_name": "FloatProgressModel",
     "state": {
      "_dom_classes": [],
      "_model_module": "@jupyter-widgets/controls",
      "_model_module_version": "1.5.0",
      "_model_name": "FloatProgressModel",
      "_view_count": null,
      "_view_module": "@jupyter-widgets/controls",
      "_view_module_version": "1.5.0",
      "_view_name": "ProgressView",
      "bar_style": "success",
      "description": "",
      "description_tooltip": null,
      "layout": "IPY_MODEL_f373ddd516a244a0828e26e1ed334188",
      "max": 676,
      "min": 0,
      "orientation": "horizontal",
      "style": "IPY_MODEL_58bc3b0e1f1641ca8dcda179dce1d088",
      "value": 676
     }
    },
    "13176a42da934c9eb0c20f4f0f70bb65": {
     "model_module": "@jupyter-widgets/base",
     "model_module_version": "1.2.0",
     "model_name": "LayoutModel",
     "state": {
      "_model_module": "@jupyter-widgets/base",
      "_model_module_version": "1.2.0",
      "_model_name": "LayoutModel",
      "_view_count": null,
      "_view_module": "@jupyter-widgets/base",
      "_view_module_version": "1.2.0",
      "_view_name": "LayoutView",
      "align_content": null,
      "align_items": null,
      "align_self": null,
      "border": null,
      "bottom": null,
      "display": null,
      "flex": null,
      "flex_flow": null,
      "grid_area": null,
      "grid_auto_columns": null,
      "grid_auto_flow": null,
      "grid_auto_rows": null,
      "grid_column": null,
      "grid_gap": null,
      "grid_row": null,
      "grid_template_areas": null,
      "grid_template_columns": null,
      "grid_template_rows": null,
      "height": null,
      "justify_content": null,
      "justify_items": null,
      "left": null,
      "margin": null,
      "max_height": null,
      "max_width": null,
      "min_height": null,
      "min_width": null,
      "object_fit": null,
      "object_position": null,
      "order": null,
      "overflow": null,
      "overflow_x": null,
      "overflow_y": null,
      "padding": null,
      "right": null,
      "top": null,
      "visibility": null,
      "width": null
     }
    },
    "1aa40b7a1a424df98fa7bebb6964acb1": {
     "model_module": "@jupyter-widgets/controls",
     "model_module_version": "1.5.0",
     "model_name": "HBoxModel",
     "state": {
      "_dom_classes": [],
      "_model_module": "@jupyter-widgets/controls",
      "_model_module_version": "1.5.0",
      "_model_name": "HBoxModel",
      "_view_count": null,
      "_view_module": "@jupyter-widgets/controls",
      "_view_module_version": "1.5.0",
      "_view_name": "HBoxView",
      "box_style": "",
      "children": [
       "IPY_MODEL_b07a6fc3b00d41e49c97067cdb14a1e2",
       "IPY_MODEL_adf1e997daf44e66a7d93e59b6be6989",
       "IPY_MODEL_97022215f3104c0c913cb063f1a28cdf"
      ],
      "layout": "IPY_MODEL_f71a0e6fc0db4c149278bcd437741d2d"
     }
    },
    "226f188bbf4f4c4cb6912d4d1f8cfedf": {
     "model_module": "@jupyter-widgets/controls",
     "model_module_version": "1.5.0",
     "model_name": "DescriptionStyleModel",
     "state": {
      "_model_module": "@jupyter-widgets/controls",
      "_model_module_version": "1.5.0",
      "_model_name": "DescriptionStyleModel",
      "_view_count": null,
      "_view_module": "@jupyter-widgets/base",
      "_view_module_version": "1.2.0",
      "_view_name": "StyleView",
      "description_width": ""
     }
    },
    "2f783b0da2514aa0a913603241e2e809": {
     "model_module": "@jupyter-widgets/controls",
     "model_module_version": "1.5.0",
     "model_name": "FloatProgressModel",
     "state": {
      "_dom_classes": [],
      "_model_module": "@jupyter-widgets/controls",
      "_model_module_version": "1.5.0",
      "_model_name": "FloatProgressModel",
      "_view_count": null,
      "_view_module": "@jupyter-widgets/controls",
      "_view_module_version": "1.5.0",
      "_view_name": "ProgressView",
      "bar_style": "success",
      "description": "",
      "description_tooltip": null,
      "layout": "IPY_MODEL_5a833aabd5c34f1f853244ee795d044e",
      "max": 69665,
      "min": 0,
      "orientation": "horizontal",
      "style": "IPY_MODEL_b9ba62730f3248ceb128803e64261bb5",
      "value": 69665
     }
    },
    "32d1cae7defc4b62bd9f40245606a8b3": {
     "model_module": "@jupyter-widgets/controls",
     "model_module_version": "1.5.0",
     "model_name": "DescriptionStyleModel",
     "state": {
      "_model_module": "@jupyter-widgets/controls",
      "_model_module_version": "1.5.0",
      "_model_name": "DescriptionStyleModel",
      "_view_count": null,
      "_view_module": "@jupyter-widgets/base",
      "_view_module_version": "1.2.0",
      "_view_name": "StyleView",
      "description_width": ""
     }
    },
    "3888f2a49441450aab7ca2aa0f0553c6": {
     "model_module": "@jupyter-widgets/base",
     "model_module_version": "1.2.0",
     "model_name": "LayoutModel",
     "state": {
      "_model_module": "@jupyter-widgets/base",
      "_model_module_version": "1.2.0",
      "_model_name": "LayoutModel",
      "_view_count": null,
      "_view_module": "@jupyter-widgets/base",
      "_view_module_version": "1.2.0",
      "_view_name": "LayoutView",
      "align_content": null,
      "align_items": null,
      "align_self": null,
      "border": null,
      "bottom": null,
      "display": null,
      "flex": null,
      "flex_flow": null,
      "grid_area": null,
      "grid_auto_columns": null,
      "grid_auto_flow": null,
      "grid_auto_rows": null,
      "grid_column": null,
      "grid_gap": null,
      "grid_row": null,
      "grid_template_areas": null,
      "grid_template_columns": null,
      "grid_template_rows": null,
      "height": null,
      "justify_content": null,
      "justify_items": null,
      "left": null,
      "margin": null,
      "max_height": null,
      "max_width": null,
      "min_height": null,
      "min_width": null,
      "object_fit": null,
      "object_position": null,
      "order": null,
      "overflow": null,
      "overflow_x": null,
      "overflow_y": null,
      "padding": null,
      "right": null,
      "top": null,
      "visibility": null,
      "width": null
     }
    },
    "3f0d2f177fe642f29d831990e2833b98": {
     "model_module": "@jupyter-widgets/controls",
     "model_module_version": "1.5.0",
     "model_name": "HBoxModel",
     "state": {
      "_dom_classes": [],
      "_model_module": "@jupyter-widgets/controls",
      "_model_module_version": "1.5.0",
      "_model_name": "HBoxModel",
      "_view_count": null,
      "_view_module": "@jupyter-widgets/controls",
      "_view_module_version": "1.5.0",
      "_view_name": "HBoxView",
      "box_style": "",
      "children": [
       "IPY_MODEL_ae8eb676187647378ce02409ad5850a8",
       "IPY_MODEL_01ceb4e0cac94eab80409763b7244ebf",
       "IPY_MODEL_6055ffa43e7a411d98492a54c0bb80c7"
      ],
      "layout": "IPY_MODEL_0513150ccb344919b741ae76fd8004f4"
     }
    },
    "4096e962c8cf4700b995e8eaf5288b0e": {
     "model_module": "@jupyter-widgets/base",
     "model_module_version": "1.2.0",
     "model_name": "LayoutModel",
     "state": {
      "_model_module": "@jupyter-widgets/base",
      "_model_module_version": "1.2.0",
      "_model_name": "LayoutModel",
      "_view_count": null,
      "_view_module": "@jupyter-widgets/base",
      "_view_module_version": "1.2.0",
      "_view_name": "LayoutView",
      "align_content": null,
      "align_items": null,
      "align_self": null,
      "border": null,
      "bottom": null,
      "display": null,
      "flex": null,
      "flex_flow": null,
      "grid_area": null,
      "grid_auto_columns": null,
      "grid_auto_flow": null,
      "grid_auto_rows": null,
      "grid_column": null,
      "grid_gap": null,
      "grid_row": null,
      "grid_template_areas": null,
      "grid_template_columns": null,
      "grid_template_rows": null,
      "height": null,
      "justify_content": null,
      "justify_items": null,
      "left": null,
      "margin": null,
      "max_height": null,
      "max_width": null,
      "min_height": null,
      "min_width": null,
      "object_fit": null,
      "object_position": null,
      "order": null,
      "overflow": null,
      "overflow_x": null,
      "overflow_y": null,
      "padding": null,
      "right": null,
      "top": null,
      "visibility": null,
      "width": null
     }
    },
    "441375d47e694e04a269a337a917c844": {
     "model_module": "@jupyter-widgets/controls",
     "model_module_version": "1.5.0",
     "model_name": "DescriptionStyleModel",
     "state": {
      "_model_module": "@jupyter-widgets/controls",
      "_model_module_version": "1.5.0",
      "_model_name": "DescriptionStyleModel",
      "_view_count": null,
      "_view_module": "@jupyter-widgets/base",
      "_view_module_version": "1.2.0",
      "_view_name": "StyleView",
      "description_width": ""
     }
    },
    "47d5b4c3341949f688fa63216685226e": {
     "model_module": "@jupyter-widgets/controls",
     "model_module_version": "1.5.0",
     "model_name": "HTMLModel",
     "state": {
      "_dom_classes": [],
      "_model_module": "@jupyter-widgets/controls",
      "_model_module_version": "1.5.0",
      "_model_name": "HTMLModel",
      "_view_count": null,
      "_view_module": "@jupyter-widgets/controls",
      "_view_module_version": "1.5.0",
      "_view_name": "HTMLView",
      "description": "",
      "description_tooltip": null,
      "layout": "IPY_MODEL_49dd3e6e7b8e44619b684d98221b802d",
      "placeholder": "​",
      "style": "IPY_MODEL_226f188bbf4f4c4cb6912d4d1f8cfedf",
      "value": " 676/676 [00:00&lt;00:00, 20.7kB/s]"
     }
    },
    "48b767963dea42cb8304a674e4bba78a": {
     "model_module": "@jupyter-widgets/base",
     "model_module_version": "1.2.0",
     "model_name": "LayoutModel",
     "state": {
      "_model_module": "@jupyter-widgets/base",
      "_model_module_version": "1.2.0",
      "_model_name": "LayoutModel",
      "_view_count": null,
      "_view_module": "@jupyter-widgets/base",
      "_view_module_version": "1.2.0",
      "_view_name": "LayoutView",
      "align_content": null,
      "align_items": null,
      "align_self": null,
      "border": null,
      "bottom": null,
      "display": null,
      "flex": null,
      "flex_flow": null,
      "grid_area": null,
      "grid_auto_columns": null,
      "grid_auto_flow": null,
      "grid_auto_rows": null,
      "grid_column": null,
      "grid_gap": null,
      "grid_row": null,
      "grid_template_areas": null,
      "grid_template_columns": null,
      "grid_template_rows": null,
      "height": null,
      "justify_content": null,
      "justify_items": null,
      "left": null,
      "margin": null,
      "max_height": null,
      "max_width": null,
      "min_height": null,
      "min_width": null,
      "object_fit": null,
      "object_position": null,
      "order": null,
      "overflow": null,
      "overflow_x": null,
      "overflow_y": null,
      "padding": null,
      "right": null,
      "top": null,
      "visibility": null,
      "width": null
     }
    },
    "49dd3e6e7b8e44619b684d98221b802d": {
     "model_module": "@jupyter-widgets/base",
     "model_module_version": "1.2.0",
     "model_name": "LayoutModel",
     "state": {
      "_model_module": "@jupyter-widgets/base",
      "_model_module_version": "1.2.0",
      "_model_name": "LayoutModel",
      "_view_count": null,
      "_view_module": "@jupyter-widgets/base",
      "_view_module_version": "1.2.0",
      "_view_name": "LayoutView",
      "align_content": null,
      "align_items": null,
      "align_self": null,
      "border": null,
      "bottom": null,
      "display": null,
      "flex": null,
      "flex_flow": null,
      "grid_area": null,
      "grid_auto_columns": null,
      "grid_auto_flow": null,
      "grid_auto_rows": null,
      "grid_column": null,
      "grid_gap": null,
      "grid_row": null,
      "grid_template_areas": null,
      "grid_template_columns": null,
      "grid_template_rows": null,
      "height": null,
      "justify_content": null,
      "justify_items": null,
      "left": null,
      "margin": null,
      "max_height": null,
      "max_width": null,
      "min_height": null,
      "min_width": null,
      "object_fit": null,
      "object_position": null,
      "order": null,
      "overflow": null,
      "overflow_x": null,
      "overflow_y": null,
      "padding": null,
      "right": null,
      "top": null,
      "visibility": null,
      "width": null
     }
    },
    "4ff770010c224bd394023efde6f59cf1": {
     "model_module": "@jupyter-widgets/base",
     "model_module_version": "1.2.0",
     "model_name": "LayoutModel",
     "state": {
      "_model_module": "@jupyter-widgets/base",
      "_model_module_version": "1.2.0",
      "_model_name": "LayoutModel",
      "_view_count": null,
      "_view_module": "@jupyter-widgets/base",
      "_view_module_version": "1.2.0",
      "_view_name": "LayoutView",
      "align_content": null,
      "align_items": null,
      "align_self": null,
      "border": null,
      "bottom": null,
      "display": null,
      "flex": null,
      "flex_flow": null,
      "grid_area": null,
      "grid_auto_columns": null,
      "grid_auto_flow": null,
      "grid_auto_rows": null,
      "grid_column": null,
      "grid_gap": null,
      "grid_row": null,
      "grid_template_areas": null,
      "grid_template_columns": null,
      "grid_template_rows": null,
      "height": null,
      "justify_content": null,
      "justify_items": null,
      "left": null,
      "margin": null,
      "max_height": null,
      "max_width": null,
      "min_height": null,
      "min_width": null,
      "object_fit": null,
      "object_position": null,
      "order": null,
      "overflow": null,
      "overflow_x": null,
      "overflow_y": null,
      "padding": null,
      "right": null,
      "top": null,
      "visibility": null,
      "width": null
     }
    },
    "516e4fb05d9d49f4a49ab1d772923665": {
     "model_module": "@jupyter-widgets/controls",
     "model_module_version": "1.5.0",
     "model_name": "DescriptionStyleModel",
     "state": {
      "_model_module": "@jupyter-widgets/controls",
      "_model_module_version": "1.5.0",
      "_model_name": "DescriptionStyleModel",
      "_view_count": null,
      "_view_module": "@jupyter-widgets/base",
      "_view_module_version": "1.2.0",
      "_view_name": "StyleView",
      "description_width": ""
     }
    },
    "58bc3b0e1f1641ca8dcda179dce1d088": {
     "model_module": "@jupyter-widgets/controls",
     "model_module_version": "1.5.0",
     "model_name": "ProgressStyleModel",
     "state": {
      "_model_module": "@jupyter-widgets/controls",
      "_model_module_version": "1.5.0",
      "_model_name": "ProgressStyleModel",
      "_view_count": null,
      "_view_module": "@jupyter-widgets/base",
      "_view_module_version": "1.2.0",
      "_view_name": "StyleView",
      "bar_color": null,
      "description_width": ""
     }
    },
    "5a833aabd5c34f1f853244ee795d044e": {
     "model_module": "@jupyter-widgets/base",
     "model_module_version": "1.2.0",
     "model_name": "LayoutModel",
     "state": {
      "_model_module": "@jupyter-widgets/base",
      "_model_module_version": "1.2.0",
      "_model_name": "LayoutModel",
      "_view_count": null,
      "_view_module": "@jupyter-widgets/base",
      "_view_module_version": "1.2.0",
      "_view_name": "LayoutView",
      "align_content": null,
      "align_items": null,
      "align_self": null,
      "border": null,
      "bottom": null,
      "display": null,
      "flex": null,
      "flex_flow": null,
      "grid_area": null,
      "grid_auto_columns": null,
      "grid_auto_flow": null,
      "grid_auto_rows": null,
      "grid_column": null,
      "grid_gap": null,
      "grid_row": null,
      "grid_template_areas": null,
      "grid_template_columns": null,
      "grid_template_rows": null,
      "height": null,
      "justify_content": null,
      "justify_items": null,
      "left": null,
      "margin": null,
      "max_height": null,
      "max_width": null,
      "min_height": null,
      "min_width": null,
      "object_fit": null,
      "object_position": null,
      "order": null,
      "overflow": null,
      "overflow_x": null,
      "overflow_y": null,
      "padding": null,
      "right": null,
      "top": null,
      "visibility": null,
      "width": null
     }
    },
    "5e2755c5f2b94a62b89374bcf96d526d": {
     "model_module": "@jupyter-widgets/base",
     "model_module_version": "1.2.0",
     "model_name": "LayoutModel",
     "state": {
      "_model_module": "@jupyter-widgets/base",
      "_model_module_version": "1.2.0",
      "_model_name": "LayoutModel",
      "_view_count": null,
      "_view_module": "@jupyter-widgets/base",
      "_view_module_version": "1.2.0",
      "_view_name": "LayoutView",
      "align_content": null,
      "align_items": null,
      "align_self": null,
      "border": null,
      "bottom": null,
      "display": null,
      "flex": null,
      "flex_flow": null,
      "grid_area": null,
      "grid_auto_columns": null,
      "grid_auto_flow": null,
      "grid_auto_rows": null,
      "grid_column": null,
      "grid_gap": null,
      "grid_row": null,
      "grid_template_areas": null,
      "grid_template_columns": null,
      "grid_template_rows": null,
      "height": null,
      "justify_content": null,
      "justify_items": null,
      "left": null,
      "margin": null,
      "max_height": null,
      "max_width": null,
      "min_height": null,
      "min_width": null,
      "object_fit": null,
      "object_position": null,
      "order": null,
      "overflow": null,
      "overflow_x": null,
      "overflow_y": null,
      "padding": null,
      "right": null,
      "top": null,
      "visibility": null,
      "width": null
     }
    },
    "5e6f5689462a485299356b00bd6da8a4": {
     "model_module": "@jupyter-widgets/controls",
     "model_module_version": "1.5.0",
     "model_name": "HTMLModel",
     "state": {
      "_dom_classes": [],
      "_model_module": "@jupyter-widgets/controls",
      "_model_module_version": "1.5.0",
      "_model_name": "HTMLModel",
      "_view_count": null,
      "_view_module": "@jupyter-widgets/controls",
      "_view_module_version": "1.5.0",
      "_view_name": "HTMLView",
      "description": "",
      "description_tooltip": null,
      "layout": "IPY_MODEL_dae9dfe695d5459abe5044010602eebc",
      "placeholder": "​",
      "style": "IPY_MODEL_cacdcd3f5f1d43f0b80aba3e9449686c",
      "value": "Downloading (…)lve/main/config.json: 100%"
     }
    },
    "5f178d667e604f5bab7e1a486ec8d00b": {
     "model_module": "@jupyter-widgets/controls",
     "model_module_version": "1.5.0",
     "model_name": "HTMLModel",
     "state": {
      "_dom_classes": [],
      "_model_module": "@jupyter-widgets/controls",
      "_model_module_version": "1.5.0",
      "_model_name": "HTMLModel",
      "_view_count": null,
      "_view_module": "@jupyter-widgets/controls",
      "_view_module_version": "1.5.0",
      "_view_name": "HTMLView",
      "description": "",
      "description_tooltip": null,
      "layout": "IPY_MODEL_9c8c650ce3c14d0b9d56976b634d1b92",
      "placeholder": "​",
      "style": "IPY_MODEL_ad781ee9493740b492b6efa0cc979926",
      "value": " 69.7k/69.7k [00:00&lt;00:00, 2.32MB/s]"
     }
    },
    "6055ffa43e7a411d98492a54c0bb80c7": {
     "model_module": "@jupyter-widgets/controls",
     "model_module_version": "1.5.0",
     "model_name": "HTMLModel",
     "state": {
      "_dom_classes": [],
      "_model_module": "@jupyter-widgets/controls",
      "_model_module_version": "1.5.0",
      "_model_name": "HTMLModel",
      "_view_count": null,
      "_view_module": "@jupyter-widgets/controls",
      "_view_module_version": "1.5.0",
      "_view_name": "HTMLView",
      "description": "",
      "description_tooltip": null,
      "layout": "IPY_MODEL_b806af47bbd94529a69dc9fbf477fa25",
      "placeholder": "​",
      "style": "IPY_MODEL_cce236abddf8437ba9ebe5a91d5b3586",
      "value": " 217/217 [00:00&lt;00:00, 9.00kB/s]"
     }
    },
    "669e1ce0289f4d0cbad1a93242d6dcd2": {
     "model_module": "@jupyter-widgets/controls",
     "model_module_version": "1.5.0",
     "model_name": "HBoxModel",
     "state": {
      "_dom_classes": [],
      "_model_module": "@jupyter-widgets/controls",
      "_model_module_version": "1.5.0",
      "_model_name": "HBoxModel",
      "_view_count": null,
      "_view_module": "@jupyter-widgets/controls",
      "_view_module_version": "1.5.0",
      "_view_name": "HBoxView",
      "box_style": "",
      "children": [
       "IPY_MODEL_c8dc261863174c379d7a37bd4ba240bb",
       "IPY_MODEL_2f783b0da2514aa0a913603241e2e809",
       "IPY_MODEL_5f178d667e604f5bab7e1a486ec8d00b"
      ],
      "layout": "IPY_MODEL_acd77d68ddd54dab9809814f13c56022"
     }
    },
    "6b8945803db54689a89bd6fea234b0d0": {
     "model_module": "@jupyter-widgets/base",
     "model_module_version": "1.2.0",
     "model_name": "LayoutModel",
     "state": {
      "_model_module": "@jupyter-widgets/base",
      "_model_module_version": "1.2.0",
      "_model_name": "LayoutModel",
      "_view_count": null,
      "_view_module": "@jupyter-widgets/base",
      "_view_module_version": "1.2.0",
      "_view_name": "LayoutView",
      "align_content": null,
      "align_items": null,
      "align_self": null,
      "border": null,
      "bottom": null,
      "display": null,
      "flex": null,
      "flex_flow": null,
      "grid_area": null,
      "grid_auto_columns": null,
      "grid_auto_flow": null,
      "grid_auto_rows": null,
      "grid_column": null,
      "grid_gap": null,
      "grid_row": null,
      "grid_template_areas": null,
      "grid_template_columns": null,
      "grid_template_rows": null,
      "height": null,
      "justify_content": null,
      "justify_items": null,
      "left": null,
      "margin": null,
      "max_height": null,
      "max_width": null,
      "min_height": null,
      "min_width": null,
      "object_fit": null,
      "object_position": null,
      "order": null,
      "overflow": null,
      "overflow_x": null,
      "overflow_y": null,
      "padding": null,
      "right": null,
      "top": null,
      "visibility": null,
      "width": null
     }
    },
    "7bae3f5ad6404674bb81134aa42d88a0": {
     "model_module": "@jupyter-widgets/controls",
     "model_module_version": "1.5.0",
     "model_name": "DescriptionStyleModel",
     "state": {
      "_model_module": "@jupyter-widgets/controls",
      "_model_module_version": "1.5.0",
      "_model_name": "DescriptionStyleModel",
      "_view_count": null,
      "_view_module": "@jupyter-widgets/base",
      "_view_module_version": "1.2.0",
      "_view_name": "StyleView",
      "description_width": ""
     }
    },
    "88e242ffe40e427f8de88f61c32f333e": {
     "model_module": "@jupyter-widgets/controls",
     "model_module_version": "1.5.0",
     "model_name": "ProgressStyleModel",
     "state": {
      "_model_module": "@jupyter-widgets/controls",
      "_model_module_version": "1.5.0",
      "_model_name": "ProgressStyleModel",
      "_view_count": null,
      "_view_module": "@jupyter-widgets/base",
      "_view_module_version": "1.2.0",
      "_view_name": "StyleView",
      "bar_color": null,
      "description_width": ""
     }
    },
    "949434c3ecaa484583eee897b3f2c9b9": {
     "model_module": "@jupyter-widgets/controls",
     "model_module_version": "1.5.0",
     "model_name": "HBoxModel",
     "state": {
      "_dom_classes": [],
      "_model_module": "@jupyter-widgets/controls",
      "_model_module_version": "1.5.0",
      "_model_name": "HBoxModel",
      "_view_count": null,
      "_view_module": "@jupyter-widgets/controls",
      "_view_module_version": "1.5.0",
      "_view_name": "HBoxView",
      "box_style": "",
      "children": [
       "IPY_MODEL_ca36bfd44bc8462db57aad2cfdd86e21",
       "IPY_MODEL_d470351bffb94ef8aeb574e7d98b875f",
       "IPY_MODEL_f6a048bbfccd4551bdfe704288c66ca4"
      ],
      "layout": "IPY_MODEL_48b767963dea42cb8304a674e4bba78a"
     }
    },
    "97022215f3104c0c913cb063f1a28cdf": {
     "model_module": "@jupyter-widgets/controls",
     "model_module_version": "1.5.0",
     "model_name": "HTMLModel",
     "state": {
      "_dom_classes": [],
      "_model_module": "@jupyter-widgets/controls",
      "_model_module_version": "1.5.0",
      "_model_name": "HTMLModel",
      "_view_count": null,
      "_view_module": "@jupyter-widgets/controls",
      "_view_module_version": "1.5.0",
      "_view_name": "HTMLView",
      "description": "",
      "description_tooltip": null,
      "layout": "IPY_MODEL_9d95e5e3ee694d0b8358460a15ba8dcd",
      "placeholder": "​",
      "style": "IPY_MODEL_7bae3f5ad6404674bb81134aa42d88a0",
      "value": " 448M/448M [00:01&lt;00:00, 256MB/s]"
     }
    },
    "9c8c650ce3c14d0b9d56976b634d1b92": {
     "model_module": "@jupyter-widgets/base",
     "model_module_version": "1.2.0",
     "model_name": "LayoutModel",
     "state": {
      "_model_module": "@jupyter-widgets/base",
      "_model_module_version": "1.2.0",
      "_model_name": "LayoutModel",
      "_view_count": null,
      "_view_module": "@jupyter-widgets/base",
      "_view_module_version": "1.2.0",
      "_view_name": "LayoutView",
      "align_content": null,
      "align_items": null,
      "align_self": null,
      "border": null,
      "bottom": null,
      "display": null,
      "flex": null,
      "flex_flow": null,
      "grid_area": null,
      "grid_auto_columns": null,
      "grid_auto_flow": null,
      "grid_auto_rows": null,
      "grid_column": null,
      "grid_gap": null,
      "grid_row": null,
      "grid_template_areas": null,
      "grid_template_columns": null,
      "grid_template_rows": null,
      "height": null,
      "justify_content": null,
      "justify_items": null,
      "left": null,
      "margin": null,
      "max_height": null,
      "max_width": null,
      "min_height": null,
      "min_width": null,
      "object_fit": null,
      "object_position": null,
      "order": null,
      "overflow": null,
      "overflow_x": null,
      "overflow_y": null,
      "padding": null,
      "right": null,
      "top": null,
      "visibility": null,
      "width": null
     }
    },
    "9d95e5e3ee694d0b8358460a15ba8dcd": {
     "model_module": "@jupyter-widgets/base",
     "model_module_version": "1.2.0",
     "model_name": "LayoutModel",
     "state": {
      "_model_module": "@jupyter-widgets/base",
      "_model_module_version": "1.2.0",
      "_model_name": "LayoutModel",
      "_view_count": null,
      "_view_module": "@jupyter-widgets/base",
      "_view_module_version": "1.2.0",
      "_view_name": "LayoutView",
      "align_content": null,
      "align_items": null,
      "align_self": null,
      "border": null,
      "bottom": null,
      "display": null,
      "flex": null,
      "flex_flow": null,
      "grid_area": null,
      "grid_auto_columns": null,
      "grid_auto_flow": null,
      "grid_auto_rows": null,
      "grid_column": null,
      "grid_gap": null,
      "grid_row": null,
      "grid_template_areas": null,
      "grid_template_columns": null,
      "grid_template_rows": null,
      "height": null,
      "justify_content": null,
      "justify_items": null,
      "left": null,
      "margin": null,
      "max_height": null,
      "max_width": null,
      "min_height": null,
      "min_width": null,
      "object_fit": null,
      "object_position": null,
      "order": null,
      "overflow": null,
      "overflow_x": null,
      "overflow_y": null,
      "padding": null,
      "right": null,
      "top": null,
      "visibility": null,
      "width": null
     }
    },
    "acd77d68ddd54dab9809814f13c56022": {
     "model_module": "@jupyter-widgets/base",
     "model_module_version": "1.2.0",
     "model_name": "LayoutModel",
     "state": {
      "_model_module": "@jupyter-widgets/base",
      "_model_module_version": "1.2.0",
      "_model_name": "LayoutModel",
      "_view_count": null,
      "_view_module": "@jupyter-widgets/base",
      "_view_module_version": "1.2.0",
      "_view_name": "LayoutView",
      "align_content": null,
      "align_items": null,
      "align_self": null,
      "border": null,
      "bottom": null,
      "display": null,
      "flex": null,
      "flex_flow": null,
      "grid_area": null,
      "grid_auto_columns": null,
      "grid_auto_flow": null,
      "grid_auto_rows": null,
      "grid_column": null,
      "grid_gap": null,
      "grid_row": null,
      "grid_template_areas": null,
      "grid_template_columns": null,
      "grid_template_rows": null,
      "height": null,
      "justify_content": null,
      "justify_items": null,
      "left": null,
      "margin": null,
      "max_height": null,
      "max_width": null,
      "min_height": null,
      "min_width": null,
      "object_fit": null,
      "object_position": null,
      "order": null,
      "overflow": null,
      "overflow_x": null,
      "overflow_y": null,
      "padding": null,
      "right": null,
      "top": null,
      "visibility": null,
      "width": null
     }
    },
    "ad781ee9493740b492b6efa0cc979926": {
     "model_module": "@jupyter-widgets/controls",
     "model_module_version": "1.5.0",
     "model_name": "DescriptionStyleModel",
     "state": {
      "_model_module": "@jupyter-widgets/controls",
      "_model_module_version": "1.5.0",
      "_model_name": "DescriptionStyleModel",
      "_view_count": null,
      "_view_module": "@jupyter-widgets/base",
      "_view_module_version": "1.2.0",
      "_view_name": "StyleView",
      "description_width": ""
     }
    },
    "adf1e997daf44e66a7d93e59b6be6989": {
     "model_module": "@jupyter-widgets/controls",
     "model_module_version": "1.5.0",
     "model_name": "FloatProgressModel",
     "state": {
      "_dom_classes": [],
      "_model_module": "@jupyter-widgets/controls",
      "_model_module_version": "1.5.0",
      "_model_name": "FloatProgressModel",
      "_view_count": null,
      "_view_module": "@jupyter-widgets/controls",
      "_view_module_version": "1.5.0",
      "_view_name": "ProgressView",
      "bar_style": "success",
      "description": "",
      "description_tooltip": null,
      "layout": "IPY_MODEL_5e2755c5f2b94a62b89374bcf96d526d",
      "max": 447760421,
      "min": 0,
      "orientation": "horizontal",
      "style": "IPY_MODEL_0aab834fdd7f42b8b75a65cd4f37b24d",
      "value": 447760421
     }
    },
    "ae8eb676187647378ce02409ad5850a8": {
     "model_module": "@jupyter-widgets/controls",
     "model_module_version": "1.5.0",
     "model_name": "HTMLModel",
     "state": {
      "_dom_classes": [],
      "_model_module": "@jupyter-widgets/controls",
      "_model_module_version": "1.5.0",
      "_model_name": "HTMLModel",
      "_view_count": null,
      "_view_module": "@jupyter-widgets/controls",
      "_view_module_version": "1.5.0",
      "_view_name": "HTMLView",
      "description": "",
      "description_tooltip": null,
      "layout": "IPY_MODEL_b3af0f5d270942e5952198ff9528c2aa",
      "placeholder": "​",
      "style": "IPY_MODEL_516e4fb05d9d49f4a49ab1d772923665",
      "value": "Downloading (…)rocessor_config.json: 100%"
     }
    },
    "b07a6fc3b00d41e49c97067cdb14a1e2": {
     "model_module": "@jupyter-widgets/controls",
     "model_module_version": "1.5.0",
     "model_name": "HTMLModel",
     "state": {
      "_dom_classes": [],
      "_model_module": "@jupyter-widgets/controls",
      "_model_module_version": "1.5.0",
      "_model_name": "HTMLModel",
      "_view_count": null,
      "_view_module": "@jupyter-widgets/controls",
      "_view_module_version": "1.5.0",
      "_view_name": "HTMLView",
      "description": "",
      "description_tooltip": null,
      "layout": "IPY_MODEL_13176a42da934c9eb0c20f4f0f70bb65",
      "placeholder": "​",
      "style": "IPY_MODEL_441375d47e694e04a269a337a917c844",
      "value": "Downloading pytorch_model.bin: 100%"
     }
    },
    "b313a55827374390ae9ae7d0063c50b7": {
     "model_module": "@jupyter-widgets/controls",
     "model_module_version": "1.5.0",
     "model_name": "HBoxModel",
     "state": {
      "_dom_classes": [],
      "_model_module": "@jupyter-widgets/controls",
      "_model_module_version": "1.5.0",
      "_model_name": "HBoxModel",
      "_view_count": null,
      "_view_module": "@jupyter-widgets/controls",
      "_view_module_version": "1.5.0",
      "_view_name": "HBoxView",
      "box_style": "",
      "children": [
       "IPY_MODEL_febe61a0c0de4a798815de6e5fd08d6c",
       "IPY_MODEL_d12b91278fa5486ea178f251de1cc941",
       "IPY_MODEL_dc679a78268f42ebaf255f72b0998228"
      ],
      "layout": "IPY_MODEL_c3e9a6b74357400396eb2c1803879c90"
     }
    },
    "b3af0f5d270942e5952198ff9528c2aa": {
     "model_module": "@jupyter-widgets/base",
     "model_module_version": "1.2.0",
     "model_name": "LayoutModel",
     "state": {
      "_model_module": "@jupyter-widgets/base",
      "_model_module_version": "1.2.0",
      "_model_name": "LayoutModel",
      "_view_count": null,
      "_view_module": "@jupyter-widgets/base",
      "_view_module_version": "1.2.0",
      "_view_name": "LayoutView",
      "align_content": null,
      "align_items": null,
      "align_self": null,
      "border": null,
      "bottom": null,
      "display": null,
      "flex": null,
      "flex_flow": null,
      "grid_area": null,
      "grid_auto_columns": null,
      "grid_auto_flow": null,
      "grid_auto_rows": null,
      "grid_column": null,
      "grid_gap": null,
      "grid_row": null,
      "grid_template_areas": null,
      "grid_template_columns": null,
      "grid_template_rows": null,
      "height": null,
      "justify_content": null,
      "justify_items": null,
      "left": null,
      "margin": null,
      "max_height": null,
      "max_width": null,
      "min_height": null,
      "min_width": null,
      "object_fit": null,
      "object_position": null,
      "order": null,
      "overflow": null,
      "overflow_x": null,
      "overflow_y": null,
      "padding": null,
      "right": null,
      "top": null,
      "visibility": null,
      "width": null
     }
    },
    "b7a49dac9bdd4f91a07e1da8d642f595": {
     "model_module": "@jupyter-widgets/controls",
     "model_module_version": "1.5.0",
     "model_name": "HBoxModel",
     "state": {
      "_dom_classes": [],
      "_model_module": "@jupyter-widgets/controls",
      "_model_module_version": "1.5.0",
      "_model_name": "HBoxModel",
      "_view_count": null,
      "_view_module": "@jupyter-widgets/controls",
      "_view_module_version": "1.5.0",
      "_view_name": "HBoxView",
      "box_style": "",
      "children": [
       "IPY_MODEL_5e6f5689462a485299356b00bd6da8a4",
       "IPY_MODEL_0c9f39702ae2478eab80f1f3d02175ea",
       "IPY_MODEL_47d5b4c3341949f688fa63216685226e"
      ],
      "layout": "IPY_MODEL_4ff770010c224bd394023efde6f59cf1"
     }
    },
    "b806af47bbd94529a69dc9fbf477fa25": {
     "model_module": "@jupyter-widgets/base",
     "model_module_version": "1.2.0",
     "model_name": "LayoutModel",
     "state": {
      "_model_module": "@jupyter-widgets/base",
      "_model_module_version": "1.2.0",
      "_model_name": "LayoutModel",
      "_view_count": null,
      "_view_module": "@jupyter-widgets/base",
      "_view_module_version": "1.2.0",
      "_view_name": "LayoutView",
      "align_content": null,
      "align_items": null,
      "align_self": null,
      "border": null,
      "bottom": null,
      "display": null,
      "flex": null,
      "flex_flow": null,
      "grid_area": null,
      "grid_auto_columns": null,
      "grid_auto_flow": null,
      "grid_auto_rows": null,
      "grid_column": null,
      "grid_gap": null,
      "grid_row": null,
      "grid_template_areas": null,
      "grid_template_columns": null,
      "grid_template_rows": null,
      "height": null,
      "justify_content": null,
      "justify_items": null,
      "left": null,
      "margin": null,
      "max_height": null,
      "max_width": null,
      "min_height": null,
      "min_width": null,
      "object_fit": null,
      "object_position": null,
      "order": null,
      "overflow": null,
      "overflow_x": null,
      "overflow_y": null,
      "padding": null,
      "right": null,
      "top": null,
      "visibility": null,
      "width": null
     }
    },
    "b9ba62730f3248ceb128803e64261bb5": {
     "model_module": "@jupyter-widgets/controls",
     "model_module_version": "1.5.0",
     "model_name": "ProgressStyleModel",
     "state": {
      "_model_module": "@jupyter-widgets/controls",
      "_model_module_version": "1.5.0",
      "_model_name": "ProgressStyleModel",
      "_view_count": null,
      "_view_module": "@jupyter-widgets/base",
      "_view_module_version": "1.2.0",
      "_view_name": "StyleView",
      "bar_color": null,
      "description_width": ""
     }
    },
    "c3e9a6b74357400396eb2c1803879c90": {
     "model_module": "@jupyter-widgets/base",
     "model_module_version": "1.2.0",
     "model_name": "LayoutModel",
     "state": {
      "_model_module": "@jupyter-widgets/base",
      "_model_module_version": "1.2.0",
      "_model_name": "LayoutModel",
      "_view_count": null,
      "_view_module": "@jupyter-widgets/base",
      "_view_module_version": "1.2.0",
      "_view_name": "LayoutView",
      "align_content": null,
      "align_items": null,
      "align_self": null,
      "border": null,
      "bottom": null,
      "display": null,
      "flex": null,
      "flex_flow": null,
      "grid_area": null,
      "grid_auto_columns": null,
      "grid_auto_flow": null,
      "grid_auto_rows": null,
      "grid_column": null,
      "grid_gap": null,
      "grid_row": null,
      "grid_template_areas": null,
      "grid_template_columns": null,
      "grid_template_rows": null,
      "height": null,
      "justify_content": null,
      "justify_items": null,
      "left": null,
      "margin": null,
      "max_height": null,
      "max_width": null,
      "min_height": null,
      "min_width": null,
      "object_fit": null,
      "object_position": null,
      "order": null,
      "overflow": null,
      "overflow_x": null,
      "overflow_y": null,
      "padding": null,
      "right": null,
      "top": null,
      "visibility": null,
      "width": null
     }
    },
    "c8dc261863174c379d7a37bd4ba240bb": {
     "model_module": "@jupyter-widgets/controls",
     "model_module_version": "1.5.0",
     "model_name": "HTMLModel",
     "state": {
      "_dom_classes": [],
      "_model_module": "@jupyter-widgets/controls",
      "_model_module_version": "1.5.0",
      "_model_name": "HTMLModel",
      "_view_count": null,
      "_view_module": "@jupyter-widgets/controls",
      "_view_module_version": "1.5.0",
      "_view_name": "HTMLView",
      "description": "",
      "description_tooltip": null,
      "layout": "IPY_MODEL_d1f7675d73ac4852b0e5cc596d4bc896",
      "placeholder": "​",
      "style": "IPY_MODEL_32d1cae7defc4b62bd9f40245606a8b3",
      "value": "Downloading (…)lve/main/config.json: 100%"
     }
    },
    "ca36bfd44bc8462db57aad2cfdd86e21": {
     "model_module": "@jupyter-widgets/controls",
     "model_module_version": "1.5.0",
     "model_name": "HTMLModel",
     "state": {
      "_dom_classes": [],
      "_model_module": "@jupyter-widgets/controls",
      "_model_module_version": "1.5.0",
      "_model_name": "HTMLModel",
      "_view_count": null,
      "_view_module": "@jupyter-widgets/controls",
      "_view_module_version": "1.5.0",
      "_view_name": "HTMLView",
      "description": "",
      "description_tooltip": null,
      "layout": "IPY_MODEL_d5b6e0a3c9cd4d4ab5793c5b2474cf6a",
      "placeholder": "​",
      "style": "IPY_MODEL_d7ade12f873e40cc99ba0ecde623885e",
      "value": "Downloading pytorch_model.bin: 100%"
     }
    },
    "cacdcd3f5f1d43f0b80aba3e9449686c": {
     "model_module": "@jupyter-widgets/controls",
     "model_module_version": "1.5.0",
     "model_name": "DescriptionStyleModel",
     "state": {
      "_model_module": "@jupyter-widgets/controls",
      "_model_module_version": "1.5.0",
      "_model_name": "DescriptionStyleModel",
      "_view_count": null,
      "_view_module": "@jupyter-widgets/base",
      "_view_module_version": "1.2.0",
      "_view_name": "StyleView",
      "description_width": ""
     }
    },
    "cce236abddf8437ba9ebe5a91d5b3586": {
     "model_module": "@jupyter-widgets/controls",
     "model_module_version": "1.5.0",
     "model_name": "DescriptionStyleModel",
     "state": {
      "_model_module": "@jupyter-widgets/controls",
      "_model_module_version": "1.5.0",
      "_model_name": "DescriptionStyleModel",
      "_view_count": null,
      "_view_module": "@jupyter-widgets/base",
      "_view_module_version": "1.2.0",
      "_view_name": "StyleView",
      "description_width": ""
     }
    },
    "cfa21c7b3d6a40c38848cf3e75c72d4b": {
     "model_module": "@jupyter-widgets/controls",
     "model_module_version": "1.5.0",
     "model_name": "ProgressStyleModel",
     "state": {
      "_model_module": "@jupyter-widgets/controls",
      "_model_module_version": "1.5.0",
      "_model_name": "ProgressStyleModel",
      "_view_count": null,
      "_view_module": "@jupyter-widgets/base",
      "_view_module_version": "1.2.0",
      "_view_name": "StyleView",
      "bar_color": null,
      "description_width": ""
     }
    },
    "d12b91278fa5486ea178f251de1cc941": {
     "model_module": "@jupyter-widgets/controls",
     "model_module_version": "1.5.0",
     "model_name": "FloatProgressModel",
     "state": {
      "_dom_classes": [],
      "_model_module": "@jupyter-widgets/controls",
      "_model_module_version": "1.5.0",
      "_model_name": "FloatProgressModel",
      "_view_count": null,
      "_view_module": "@jupyter-widgets/controls",
      "_view_module_version": "1.5.0",
      "_view_name": "ProgressView",
      "bar_style": "success",
      "description": "",
      "description_tooltip": null,
      "layout": "IPY_MODEL_3888f2a49441450aab7ca2aa0f0553c6",
      "max": 160,
      "min": 0,
      "orientation": "horizontal",
      "style": "IPY_MODEL_88e242ffe40e427f8de88f61c32f333e",
      "value": 160
     }
    },
    "d1f7675d73ac4852b0e5cc596d4bc896": {
     "model_module": "@jupyter-widgets/base",
     "model_module_version": "1.2.0",
     "model_name": "LayoutModel",
     "state": {
      "_model_module": "@jupyter-widgets/base",
      "_model_module_version": "1.2.0",
      "_model_name": "LayoutModel",
      "_view_count": null,
      "_view_module": "@jupyter-widgets/base",
      "_view_module_version": "1.2.0",
      "_view_name": "LayoutView",
      "align_content": null,
      "align_items": null,
      "align_self": null,
      "border": null,
      "bottom": null,
      "display": null,
      "flex": null,
      "flex_flow": null,
      "grid_area": null,
      "grid_auto_columns": null,
      "grid_auto_flow": null,
      "grid_auto_rows": null,
      "grid_column": null,
      "grid_gap": null,
      "grid_row": null,
      "grid_template_areas": null,
      "grid_template_columns": null,
      "grid_template_rows": null,
      "height": null,
      "justify_content": null,
      "justify_items": null,
      "left": null,
      "margin": null,
      "max_height": null,
      "max_width": null,
      "min_height": null,
      "min_width": null,
      "object_fit": null,
      "object_position": null,
      "order": null,
      "overflow": null,
      "overflow_x": null,
      "overflow_y": null,
      "padding": null,
      "right": null,
      "top": null,
      "visibility": null,
      "width": null
     }
    },
    "d470351bffb94ef8aeb574e7d98b875f": {
     "model_module": "@jupyter-widgets/controls",
     "model_module_version": "1.5.0",
     "model_name": "FloatProgressModel",
     "state": {
      "_dom_classes": [],
      "_model_module": "@jupyter-widgets/controls",
      "_model_module_version": "1.5.0",
      "_model_name": "FloatProgressModel",
      "_view_count": null,
      "_view_module": "@jupyter-widgets/controls",
      "_view_module_version": "1.5.0",
      "_view_name": "ProgressView",
      "bar_style": "success",
      "description": "",
      "description_tooltip": null,
      "layout": "IPY_MODEL_e28626ff0feb42368a5f4c468d7aad1e",
      "max": 346351599,
      "min": 0,
      "orientation": "horizontal",
      "style": "IPY_MODEL_f02984dbe04a4bccbd1b106d38712284",
      "value": 346351599
     }
    },
    "d5b6e0a3c9cd4d4ab5793c5b2474cf6a": {
     "model_module": "@jupyter-widgets/base",
     "model_module_version": "1.2.0",
     "model_name": "LayoutModel",
     "state": {
      "_model_module": "@jupyter-widgets/base",
      "_model_module_version": "1.2.0",
      "_model_name": "LayoutModel",
      "_view_count": null,
      "_view_module": "@jupyter-widgets/base",
      "_view_module_version": "1.2.0",
      "_view_name": "LayoutView",
      "align_content": null,
      "align_items": null,
      "align_self": null,
      "border": null,
      "bottom": null,
      "display": null,
      "flex": null,
      "flex_flow": null,
      "grid_area": null,
      "grid_auto_columns": null,
      "grid_auto_flow": null,
      "grid_auto_rows": null,
      "grid_column": null,
      "grid_gap": null,
      "grid_row": null,
      "grid_template_areas": null,
      "grid_template_columns": null,
      "grid_template_rows": null,
      "height": null,
      "justify_content": null,
      "justify_items": null,
      "left": null,
      "margin": null,
      "max_height": null,
      "max_width": null,
      "min_height": null,
      "min_width": null,
      "object_fit": null,
      "object_position": null,
      "order": null,
      "overflow": null,
      "overflow_x": null,
      "overflow_y": null,
      "padding": null,
      "right": null,
      "top": null,
      "visibility": null,
      "width": null
     }
    },
    "d7ade12f873e40cc99ba0ecde623885e": {
     "model_module": "@jupyter-widgets/controls",
     "model_module_version": "1.5.0",
     "model_name": "DescriptionStyleModel",
     "state": {
      "_model_module": "@jupyter-widgets/controls",
      "_model_module_version": "1.5.0",
      "_model_name": "DescriptionStyleModel",
      "_view_count": null,
      "_view_module": "@jupyter-widgets/base",
      "_view_module_version": "1.2.0",
      "_view_name": "StyleView",
      "description_width": ""
     }
    },
    "dae9dfe695d5459abe5044010602eebc": {
     "model_module": "@jupyter-widgets/base",
     "model_module_version": "1.2.0",
     "model_name": "LayoutModel",
     "state": {
      "_model_module": "@jupyter-widgets/base",
      "_model_module_version": "1.2.0",
      "_model_name": "LayoutModel",
      "_view_count": null,
      "_view_module": "@jupyter-widgets/base",
      "_view_module_version": "1.2.0",
      "_view_name": "LayoutView",
      "align_content": null,
      "align_items": null,
      "align_self": null,
      "border": null,
      "bottom": null,
      "display": null,
      "flex": null,
      "flex_flow": null,
      "grid_area": null,
      "grid_auto_columns": null,
      "grid_auto_flow": null,
      "grid_auto_rows": null,
      "grid_column": null,
      "grid_gap": null,
      "grid_row": null,
      "grid_template_areas": null,
      "grid_template_columns": null,
      "grid_template_rows": null,
      "height": null,
      "justify_content": null,
      "justify_items": null,
      "left": null,
      "margin": null,
      "max_height": null,
      "max_width": null,
      "min_height": null,
      "min_width": null,
      "object_fit": null,
      "object_position": null,
      "order": null,
      "overflow": null,
      "overflow_x": null,
      "overflow_y": null,
      "padding": null,
      "right": null,
      "top": null,
      "visibility": null,
      "width": null
     }
    },
    "dc679a78268f42ebaf255f72b0998228": {
     "model_module": "@jupyter-widgets/controls",
     "model_module_version": "1.5.0",
     "model_name": "HTMLModel",
     "state": {
      "_dom_classes": [],
      "_model_module": "@jupyter-widgets/controls",
      "_model_module_version": "1.5.0",
      "_model_name": "HTMLModel",
      "_view_count": null,
      "_view_module": "@jupyter-widgets/controls",
      "_view_module_version": "1.5.0",
      "_view_name": "HTMLView",
      "description": "",
      "description_tooltip": null,
      "layout": "IPY_MODEL_e147c520e2004bb2a15975a8463fd96b",
      "placeholder": "​",
      "style": "IPY_MODEL_fecdb4d60604409fb2c178931fe909ca",
      "value": " 160/160 [00:00&lt;00:00, 7.54kB/s]"
     }
    },
    "e147c520e2004bb2a15975a8463fd96b": {
     "model_module": "@jupyter-widgets/base",
     "model_module_version": "1.2.0",
     "model_name": "LayoutModel",
     "state": {
      "_model_module": "@jupyter-widgets/base",
      "_model_module_version": "1.2.0",
      "_model_name": "LayoutModel",
      "_view_count": null,
      "_view_module": "@jupyter-widgets/base",
      "_view_module_version": "1.2.0",
      "_view_name": "LayoutView",
      "align_content": null,
      "align_items": null,
      "align_self": null,
      "border": null,
      "bottom": null,
      "display": null,
      "flex": null,
      "flex_flow": null,
      "grid_area": null,
      "grid_auto_columns": null,
      "grid_auto_flow": null,
      "grid_auto_rows": null,
      "grid_column": null,
      "grid_gap": null,
      "grid_row": null,
      "grid_template_areas": null,
      "grid_template_columns": null,
      "grid_template_rows": null,
      "height": null,
      "justify_content": null,
      "justify_items": null,
      "left": null,
      "margin": null,
      "max_height": null,
      "max_width": null,
      "min_height": null,
      "min_width": null,
      "object_fit": null,
      "object_position": null,
      "order": null,
      "overflow": null,
      "overflow_x": null,
      "overflow_y": null,
      "padding": null,
      "right": null,
      "top": null,
      "visibility": null,
      "width": null
     }
    },
    "e28626ff0feb42368a5f4c468d7aad1e": {
     "model_module": "@jupyter-widgets/base",
     "model_module_version": "1.2.0",
     "model_name": "LayoutModel",
     "state": {
      "_model_module": "@jupyter-widgets/base",
      "_model_module_version": "1.2.0",
      "_model_name": "LayoutModel",
      "_view_count": null,
      "_view_module": "@jupyter-widgets/base",
      "_view_module_version": "1.2.0",
      "_view_name": "LayoutView",
      "align_content": null,
      "align_items": null,
      "align_self": null,
      "border": null,
      "bottom": null,
      "display": null,
      "flex": null,
      "flex_flow": null,
      "grid_area": null,
      "grid_auto_columns": null,
      "grid_auto_flow": null,
      "grid_auto_rows": null,
      "grid_column": null,
      "grid_gap": null,
      "grid_row": null,
      "grid_template_areas": null,
      "grid_template_columns": null,
      "grid_template_rows": null,
      "height": null,
      "justify_content": null,
      "justify_items": null,
      "left": null,
      "margin": null,
      "max_height": null,
      "max_width": null,
      "min_height": null,
      "min_width": null,
      "object_fit": null,
      "object_position": null,
      "order": null,
      "overflow": null,
      "overflow_x": null,
      "overflow_y": null,
      "padding": null,
      "right": null,
      "top": null,
      "visibility": null,
      "width": null
     }
    },
    "e6e3cde9bc644277b96da18fc467776f": {
     "model_module": "@jupyter-widgets/base",
     "model_module_version": "1.2.0",
     "model_name": "LayoutModel",
     "state": {
      "_model_module": "@jupyter-widgets/base",
      "_model_module_version": "1.2.0",
      "_model_name": "LayoutModel",
      "_view_count": null,
      "_view_module": "@jupyter-widgets/base",
      "_view_module_version": "1.2.0",
      "_view_name": "LayoutView",
      "align_content": null,
      "align_items": null,
      "align_self": null,
      "border": null,
      "bottom": null,
      "display": null,
      "flex": null,
      "flex_flow": null,
      "grid_area": null,
      "grid_auto_columns": null,
      "grid_auto_flow": null,
      "grid_auto_rows": null,
      "grid_column": null,
      "grid_gap": null,
      "grid_row": null,
      "grid_template_areas": null,
      "grid_template_columns": null,
      "grid_template_rows": null,
      "height": null,
      "justify_content": null,
      "justify_items": null,
      "left": null,
      "margin": null,
      "max_height": null,
      "max_width": null,
      "min_height": null,
      "min_width": null,
      "object_fit": null,
      "object_position": null,
      "order": null,
      "overflow": null,
      "overflow_x": null,
      "overflow_y": null,
      "padding": null,
      "right": null,
      "top": null,
      "visibility": null,
      "width": null
     }
    },
    "e97424a1c5064e48b8d7f272027fc673": {
     "model_module": "@jupyter-widgets/controls",
     "model_module_version": "1.5.0",
     "model_name": "DescriptionStyleModel",
     "state": {
      "_model_module": "@jupyter-widgets/controls",
      "_model_module_version": "1.5.0",
      "_model_name": "DescriptionStyleModel",
      "_view_count": null,
      "_view_module": "@jupyter-widgets/base",
      "_view_module_version": "1.2.0",
      "_view_name": "StyleView",
      "description_width": ""
     }
    },
    "f02984dbe04a4bccbd1b106d38712284": {
     "model_module": "@jupyter-widgets/controls",
     "model_module_version": "1.5.0",
     "model_name": "ProgressStyleModel",
     "state": {
      "_model_module": "@jupyter-widgets/controls",
      "_model_module_version": "1.5.0",
      "_model_name": "ProgressStyleModel",
      "_view_count": null,
      "_view_module": "@jupyter-widgets/base",
      "_view_module_version": "1.2.0",
      "_view_name": "StyleView",
      "bar_color": null,
      "description_width": ""
     }
    },
    "f373ddd516a244a0828e26e1ed334188": {
     "model_module": "@jupyter-widgets/base",
     "model_module_version": "1.2.0",
     "model_name": "LayoutModel",
     "state": {
      "_model_module": "@jupyter-widgets/base",
      "_model_module_version": "1.2.0",
      "_model_name": "LayoutModel",
      "_view_count": null,
      "_view_module": "@jupyter-widgets/base",
      "_view_module_version": "1.2.0",
      "_view_name": "LayoutView",
      "align_content": null,
      "align_items": null,
      "align_self": null,
      "border": null,
      "bottom": null,
      "display": null,
      "flex": null,
      "flex_flow": null,
      "grid_area": null,
      "grid_auto_columns": null,
      "grid_auto_flow": null,
      "grid_auto_rows": null,
      "grid_column": null,
      "grid_gap": null,
      "grid_row": null,
      "grid_template_areas": null,
      "grid_template_columns": null,
      "grid_template_rows": null,
      "height": null,
      "justify_content": null,
      "justify_items": null,
      "left": null,
      "margin": null,
      "max_height": null,
      "max_width": null,
      "min_height": null,
      "min_width": null,
      "object_fit": null,
      "object_position": null,
      "order": null,
      "overflow": null,
      "overflow_x": null,
      "overflow_y": null,
      "padding": null,
      "right": null,
      "top": null,
      "visibility": null,
      "width": null
     }
    },
    "f63fd4866447498f8f600e2b54dc8f33": {
     "model_module": "@jupyter-widgets/controls",
     "model_module_version": "1.5.0",
     "model_name": "DescriptionStyleModel",
     "state": {
      "_model_module": "@jupyter-widgets/controls",
      "_model_module_version": "1.5.0",
      "_model_name": "DescriptionStyleModel",
      "_view_count": null,
      "_view_module": "@jupyter-widgets/base",
      "_view_module_version": "1.2.0",
      "_view_name": "StyleView",
      "description_width": ""
     }
    },
    "f6a048bbfccd4551bdfe704288c66ca4": {
     "model_module": "@jupyter-widgets/controls",
     "model_module_version": "1.5.0",
     "model_name": "HTMLModel",
     "state": {
      "_dom_classes": [],
      "_model_module": "@jupyter-widgets/controls",
      "_model_module_version": "1.5.0",
      "_model_name": "HTMLModel",
      "_view_count": null,
      "_view_module": "@jupyter-widgets/controls",
      "_view_module_version": "1.5.0",
      "_view_name": "HTMLView",
      "description": "",
      "description_tooltip": null,
      "layout": "IPY_MODEL_4096e962c8cf4700b995e8eaf5288b0e",
      "placeholder": "​",
      "style": "IPY_MODEL_f63fd4866447498f8f600e2b54dc8f33",
      "value": " 346M/346M [00:03&lt;00:00, 98.3MB/s]"
     }
    },
    "f71a0e6fc0db4c149278bcd437741d2d": {
     "model_module": "@jupyter-widgets/base",
     "model_module_version": "1.2.0",
     "model_name": "LayoutModel",
     "state": {
      "_model_module": "@jupyter-widgets/base",
      "_model_module_version": "1.2.0",
      "_model_name": "LayoutModel",
      "_view_count": null,
      "_view_module": "@jupyter-widgets/base",
      "_view_module_version": "1.2.0",
      "_view_name": "LayoutView",
      "align_content": null,
      "align_items": null,
      "align_self": null,
      "border": null,
      "bottom": null,
      "display": null,
      "flex": null,
      "flex_flow": null,
      "grid_area": null,
      "grid_auto_columns": null,
      "grid_auto_flow": null,
      "grid_auto_rows": null,
      "grid_column": null,
      "grid_gap": null,
      "grid_row": null,
      "grid_template_areas": null,
      "grid_template_columns": null,
      "grid_template_rows": null,
      "height": null,
      "justify_content": null,
      "justify_items": null,
      "left": null,
      "margin": null,
      "max_height": null,
      "max_width": null,
      "min_height": null,
      "min_width": null,
      "object_fit": null,
      "object_position": null,
      "order": null,
      "overflow": null,
      "overflow_x": null,
      "overflow_y": null,
      "padding": null,
      "right": null,
      "top": null,
      "visibility": null,
      "width": null
     }
    },
    "febe61a0c0de4a798815de6e5fd08d6c": {
     "model_module": "@jupyter-widgets/controls",
     "model_module_version": "1.5.0",
     "model_name": "HTMLModel",
     "state": {
      "_dom_classes": [],
      "_model_module": "@jupyter-widgets/controls",
      "_model_module_version": "1.5.0",
      "_model_name": "HTMLModel",
      "_view_count": null,
      "_view_module": "@jupyter-widgets/controls",
      "_view_module_version": "1.5.0",
      "_view_name": "HTMLView",
      "description": "",
      "description_tooltip": null,
      "layout": "IPY_MODEL_6b8945803db54689a89bd6fea234b0d0",
      "placeholder": "​",
      "style": "IPY_MODEL_e97424a1c5064e48b8d7f272027fc673",
      "value": "Downloading (…)rocessor_config.json: 100%"
     }
    },
    "fecdb4d60604409fb2c178931fe909ca": {
     "model_module": "@jupyter-widgets/controls",
     "model_module_version": "1.5.0",
     "model_name": "DescriptionStyleModel",
     "state": {
      "_model_module": "@jupyter-widgets/controls",
      "_model_module_version": "1.5.0",
      "_model_name": "DescriptionStyleModel",
      "_view_count": null,
      "_view_module": "@jupyter-widgets/base",
      "_view_module_version": "1.2.0",
      "_view_name": "StyleView",
      "description_width": ""
     }
    }
   }
  }
 },
 "nbformat": 4,
 "nbformat_minor": 4
}
